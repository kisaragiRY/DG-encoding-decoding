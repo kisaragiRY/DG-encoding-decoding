{
 "cells": [
  {
   "cell_type": "markdown",
   "metadata": {},
   "source": [
    "## Visualization"
   ]
  },
  {
   "cell_type": "code",
   "execution_count": 1,
   "metadata": {},
   "outputs": [],
   "source": [
    "from func import *\n",
    "import matplotlib.pyplot as plt\n",
    "import numpy as np\n",
    "from encoder import *"
   ]
  },
  {
   "cell_type": "code",
   "execution_count": 2,
   "metadata": {},
   "outputs": [
    {
     "name": "stdout",
     "output_type": "stream",
     "text": [
      "mouse name:092217 OF CaMKII HKO M30-n1\n"
     ]
    }
   ],
   "source": [
    "# ---load a normal mouse's data\n",
    "all_data_dir='./data/alldata/'\n",
    "datalist=os.listdir(all_data_dir)\n",
    "\n",
    "data_dir=all_data_dir+datalist[1] # load data\n",
    "sample_name=data_dir.split('/')[-1]\n",
    "print(f'mouse name:{sample_name}')\n",
    "\n",
    "position,spikes=data_loader(data_dir)"
   ]
  },
  {
   "cell_type": "code",
   "execution_count": 3,
   "metadata": {},
   "outputs": [
    {
     "name": "stdout",
     "output_type": "stream",
     "text": [
      "number of neurons in this mouse:58 \n",
      "\n",
      "loaded data: neuron 50\n",
      "time bin size:0.33s\n",
      "total time bins:5394 (29.97min)\n",
      "number of spikes:34\n"
     ]
    }
   ],
   "source": [
    "# basic info\n",
    "\n",
    "neuron_idx=50\n",
    "time_bin_size=1/3 #second\n",
    "num_time_bins,num_cells = spikes.shape\n",
    "\n",
    "print(f\"number of neurons in this mouse:{num_cells} \\n\")\n",
    "\n",
    "print(f\"loaded data: neuron {neuron_idx}\")\n",
    "print(f\"time bin size:{round(time_bin_size,2)}s\")\n",
    "print(f\"total time bins:{num_time_bins} ({round(num_time_bins*time_bin_size/60,2)}min)\")\n",
    "print(f\"number of spikes:{sum(spikes[:,neuron_idx])}\")"
   ]
  }
 ],
 "metadata": {
  "kernelspec": {
   "display_name": "Python 3.8.5 ('.venv': poetry)",
   "language": "python",
   "name": "python3"
  },
  "language_info": {
   "codemirror_mode": {
    "name": "ipython",
    "version": 3
   },
   "file_extension": ".py",
   "mimetype": "text/x-python",
   "name": "python",
   "nbconvert_exporter": "python",
   "pygments_lexer": "ipython3",
   "version": "3.8.5"
  },
  "orig_nbformat": 4,
  "vscode": {
   "interpreter": {
    "hash": "e76f721daba2b7c2958ecc0f0c72410b1a0af66ce6231d5929ea1d19b81cd3cc"
   }
  }
 },
 "nbformat": 4,
 "nbformat_minor": 2
}
