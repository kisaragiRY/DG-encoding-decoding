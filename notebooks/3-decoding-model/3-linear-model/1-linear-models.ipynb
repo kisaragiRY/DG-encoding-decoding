{
 "cells": [
  {
   "cell_type": "markdown",
   "metadata": {},
   "source": [
    "# research on linear models to use"
   ]
  },
  {
   "cell_type": "markdown",
   "metadata": {},
   "source": [
    "## import data"
   ]
  },
  {
   "cell_type": "code",
   "execution_count": 1,
   "metadata": {},
   "outputs": [
    {
     "ename": "FileNotFoundError",
     "evalue": "[Errno 2] No such file or directory: '/work/data/interim'",
     "output_type": "error",
     "traceback": [
      "\u001b[0;31m---------------------------------------------------------------------------\u001b[0m",
      "\u001b[0;31mFileNotFoundError\u001b[0m                         Traceback (most recent call last)",
      "\u001b[1;32m/work/notebooks/3-decoding-model/3-linear-model/1-linear-models.ipynb Cell 3\u001b[0m line \u001b[0;36m3\n\u001b[1;32m      <a href='vscode-notebook-cell://attached-container%2B7b22636f6e7461696e65724e616d65223a222f64672d656e636f6465722d6465636f646572222c2273657474696e6773223a7b22636f6e74657874223a226465736b746f702d6c696e7578227d7d/work/notebooks/3-decoding-model/3-linear-model/1-linear-models.ipynb#W1sdnNjb2RlLXJlbW90ZQ%3D%3D?line=0'>1</a>\u001b[0m \u001b[39mfrom\u001b[39;00m \u001b[39mmodules\u001b[39;00m\u001b[39m.\u001b[39;00m\u001b[39mdataloader\u001b[39;00m \u001b[39mimport\u001b[39;00m UniformSegmentDataset\n\u001b[1;32m      <a href='vscode-notebook-cell://attached-container%2B7b22636f6e7461696e65724e616d65223a222f64672d656e636f6465722d6465636f646572222c2273657474696e6773223a7b22636f6e74657874223a226465736b746f702d6c696e7578227d7d/work/notebooks/3-decoding-model/3-linear-model/1-linear-models.ipynb#W1sdnNjb2RlLXJlbW90ZQ%3D%3D?line=1'>2</a>\u001b[0m \u001b[39mfrom\u001b[39;00m \u001b[39mparam\u001b[39;00m \u001b[39mimport\u001b[39;00m \u001b[39m*\u001b[39m\n\u001b[0;32m----> <a href='vscode-notebook-cell://attached-container%2B7b22636f6e7461696e65724e616d65223a222f64672d656e636f6465722d6465636f646572222c2273657474696e6773223a7b22636f6e74657874223a226465736b746f702d6c696e7578227d7d/work/notebooks/3-decoding-model/3-linear-model/1-linear-models.ipynb#W1sdnNjb2RlLXJlbW90ZQ%3D%3D?line=2'>3</a>\u001b[0m data_dir \u001b[39m=\u001b[39m ParamDir()\u001b[39m.\u001b[39mdata_path_list[\u001b[39m0\u001b[39m]\n\u001b[1;32m      <a href='vscode-notebook-cell://attached-container%2B7b22636f6e7461696e65724e616d65223a222f64672d656e636f6465722d6465636f646572222c2273657474696e6773223a7b22636f6e74657874223a226465736b746f702d6c696e7578227d7d/work/notebooks/3-decoding-model/3-linear-model/1-linear-models.ipynb#W1sdnNjb2RlLXJlbW90ZQ%3D%3D?line=3'>4</a>\u001b[0m data_name \u001b[39m=\u001b[39m \u001b[39mstr\u001b[39m(data_dir)\u001b[39m.\u001b[39msplit(\u001b[39m'\u001b[39m\u001b[39m/\u001b[39m\u001b[39m'\u001b[39m)[\u001b[39m-\u001b[39m\u001b[39m1\u001b[39m]\n\u001b[1;32m      <a href='vscode-notebook-cell://attached-container%2B7b22636f6e7461696e65724e616d65223a222f64672d656e636f6465722d6465636f646572222c2273657474696e6773223a7b22636f6e74657874223a226465736b746f702d6c696e7578227d7d/work/notebooks/3-decoding-model/3-linear-model/1-linear-models.ipynb#W1sdnNjb2RlLXJlbW90ZQ%3D%3D?line=4'>5</a>\u001b[0m dataset \u001b[39m=\u001b[39m UniformSegmentDataset(data_dir, ParamData()\u001b[39m.\u001b[39mmobility, ParamData()\u001b[39m.\u001b[39mshuffle, ParamData()\u001b[39m.\u001b[39mrandom_state)\n",
      "File \u001b[0;32m<string>:6\u001b[0m, in \u001b[0;36m__init__\u001b[0;34m(self, ROOT, DATA_ROOT, OUTPUT_ROOT)\u001b[0m\n",
      "File \u001b[0;32m/work/notebooks/3-decoding-model/3-linear-model/param.py:18\u001b[0m, in \u001b[0;36mParamDir.__post_init__\u001b[0;34m(self)\u001b[0m\n\u001b[1;32m     16\u001b[0m \u001b[39mdef\u001b[39;00m \u001b[39m__post_init__\u001b[39m(\u001b[39mself\u001b[39m) \u001b[39m-\u001b[39m\u001b[39m>\u001b[39m \u001b[39mNone\u001b[39;00m:\n\u001b[1;32m     17\u001b[0m     \u001b[39mif\u001b[39;00m \u001b[39mnot\u001b[39;00m \u001b[39mself\u001b[39m\u001b[39m.\u001b[39mOUTPUT_ROOT\u001b[39m.\u001b[39mexists():\n\u001b[0;32m---> 18\u001b[0m         \u001b[39mself\u001b[39;49m\u001b[39m.\u001b[39;49mOUTPUT_ROOT\u001b[39m.\u001b[39;49mmkdir()\n\u001b[1;32m     20\u001b[0m     \u001b[39mself\u001b[39m\u001b[39m.\u001b[39moutput_dir \u001b[39m=\u001b[39m \u001b[39mself\u001b[39m\u001b[39m.\u001b[39mOUTPUT_ROOT\u001b[39m/\u001b[39m\u001b[39m\"\u001b[39m\u001b[39mtime_series_classification/\u001b[39m\u001b[39m\"\u001b[39m\n\u001b[1;32m     21\u001b[0m     \u001b[39mif\u001b[39;00m \u001b[39mnot\u001b[39;00m \u001b[39mself\u001b[39m\u001b[39m.\u001b[39moutput_dir\u001b[39m.\u001b[39mexists():\n",
      "File \u001b[0;32m/usr/local/lib/python3.8/pathlib.py:1284\u001b[0m, in \u001b[0;36mPath.mkdir\u001b[0;34m(self, mode, parents, exist_ok)\u001b[0m\n\u001b[1;32m   1282\u001b[0m     \u001b[39mself\u001b[39m\u001b[39m.\u001b[39m_raise_closed()\n\u001b[1;32m   1283\u001b[0m \u001b[39mtry\u001b[39;00m:\n\u001b[0;32m-> 1284\u001b[0m     \u001b[39mself\u001b[39;49m\u001b[39m.\u001b[39;49m_accessor\u001b[39m.\u001b[39;49mmkdir(\u001b[39mself\u001b[39;49m, mode)\n\u001b[1;32m   1285\u001b[0m \u001b[39mexcept\u001b[39;00m \u001b[39mFileNotFoundError\u001b[39;00m:\n\u001b[1;32m   1286\u001b[0m     \u001b[39mif\u001b[39;00m \u001b[39mnot\u001b[39;00m parents \u001b[39mor\u001b[39;00m \u001b[39mself\u001b[39m\u001b[39m.\u001b[39mparent \u001b[39m==\u001b[39m \u001b[39mself\u001b[39m:\n",
      "\u001b[0;31mFileNotFoundError\u001b[0m: [Errno 2] No such file or directory: '/work/data/interim'"
     ]
    }
   ],
   "source": [
    "from modules.dataloader import UniformSegmentDataset\n",
    "from param import *\n",
    "data_dir = ParamDir().data_path_list[0]\n",
    "data_name = str(data_dir).split('/')[-1]\n",
    "dataset = UniformSegmentDataset(data_dir, ParamData().mobility, ParamData().shuffle, ParamData().random_state)\n",
    "\n",
    "print(data_name)"
   ]
  },
  {
   "cell_type": "markdown",
   "metadata": {},
   "source": []
  }
 ],
 "metadata": {
  "kernelspec": {
   "display_name": "Python 3",
   "language": "python",
   "name": "python3"
  },
  "language_info": {
   "codemirror_mode": {
    "name": "ipython",
    "version": 3
   },
   "file_extension": ".py",
   "mimetype": "text/x-python",
   "name": "python",
   "nbconvert_exporter": "python",
   "pygments_lexer": "ipython3",
   "version": "3.8.5"
  }
 },
 "nbformat": 4,
 "nbformat_minor": 2
}
