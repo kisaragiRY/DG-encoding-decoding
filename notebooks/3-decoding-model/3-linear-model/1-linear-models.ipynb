{
 "cells": [
  {
   "cell_type": "markdown",
   "metadata": {},
   "source": [
    "# research on linear models to use"
   ]
  },
  {
   "cell_type": "markdown",
   "metadata": {},
   "source": [
    "## import data"
   ]
  },
  {
   "cell_type": "code",
   "execution_count": 14,
   "metadata": {},
   "outputs": [
    {
     "name": "stdout",
     "output_type": "stream",
     "text": [
      "092717 OF SERT WT M32-n1\n"
     ]
    }
   ],
   "source": [
    "# from modules.dataloader import UniformSegmentDataset\n",
    "from param import *\n",
    "from datasets import ConcatDataset\n",
    "data_dir = ParamDir().data_list[0]\n",
    "data_name = str(data_dir).split('/')[-1]\n",
    "dataset = ConcatDataset(data_dir, ParamData().mobility, ParamData().shuffle, ParamData().random_state)\n",
    "(X_train, y_train), (X_test, y_test) = dataset.load_all_data(ParamData().window_size, ParamData().K, ParamData().train_ratio)\n",
    "\n",
    "print(data_name)"
   ]
  },
  {
   "cell_type": "code",
   "execution_count": 37,
   "metadata": {},
   "outputs": [
    {
     "name": "stdout",
     "output_type": "stream",
     "text": [
      "092717 OF SERT WT M32-n1: 0.2387820512820513\n",
      "092217 OF CaMKII HKO M30-n1: 0.23850574712643677\n",
      "091317 OF CaMKII HKO M20-n1: 0.24897119341563786\n",
      "090817 OF CaMKII HKO M22-n1: 0.2555147058823529\n",
      "092217 OF CaMKII WT M29-n1: 0.2371031746031746\n",
      "M46_042718_OF: 0.2528409090909091\n",
      "081117 OF B6J M27-n1: 0.25089285714285714\n",
      "091317 OF CaMKII HKO M19-n1: 0.2764423076923077\n",
      "CK_WT_RN3_OF: 0.24746376811594203\n",
      "M45_042718_OF: 0.2746212121212121\n",
      "CK_KO_RN1_OF: 0.25390625\n",
      "M44_042718_OF: 0.25757575757575757\n"
     ]
    }
   ],
   "source": [
    "from sklearn.linear_model import LogisticRegression\n",
    "\n",
    "clf = LogisticRegression().fit(X_train, y_train)\n",
    "\n",
    "for data_dir in ParamDir().data_list:\n",
    "    data_name = str(data_dir).split('/')[-1]\n",
    "    dataset = ConcatDataset(data_dir, ParamData().mobility, ParamData().shuffle, ParamData().random_state)\n",
    "    (X_train, y_train), (X_test, y_test) = dataset.load_all_data(ParamData().window_size, ParamData().K, ParamData().train_ratio)\n",
    "\n",
    "    clf = LogisticRegression().fit(X_train, y_train)\n",
    "    res = np.sum(clf.predict(X_test)==y_test)/y_test.size\n",
    "    print(f\"{data_name}: {res}\")"
   ]
  },
  {
   "cell_type": "code",
   "execution_count": 36,
   "metadata": {},
   "outputs": [
    {
     "name": "stdout",
     "output_type": "stream",
     "text": [
      "092717 OF SERT WT M32-n1: 0.2387820512820513\n",
      "092217 OF CaMKII HKO M30-n1: 0.23922413793103448\n",
      "091317 OF CaMKII HKO M20-n1: 0.24279835390946503\n",
      "090817 OF CaMKII HKO M22-n1: 0.25643382352941174\n",
      "092217 OF CaMKII WT M29-n1: 0.23511904761904762\n",
      "M46_042718_OF: 0.25142045454545453\n",
      "081117 OF B6J M27-n1: 0.2517857142857143\n",
      "091317 OF CaMKII HKO M19-n1: 0.27403846153846156\n",
      "CK_WT_RN3_OF: 0.24818840579710144\n",
      "M45_042718_OF: 0.2803030303030303\n",
      "CK_KO_RN1_OF: 0.25\n",
      "M44_042718_OF: 0.25252525252525254\n"
     ]
    }
   ],
   "source": [
    "from sklearn.svm import LinearSVC\n",
    "\n",
    "for data_dir in ParamDir().data_list:\n",
    "    data_name = str(data_dir).split('/')[-1]\n",
    "    dataset = ConcatDataset(data_dir, ParamData().mobility, ParamData().shuffle, ParamData().random_state)\n",
    "    (X_train, y_train), (X_test, y_test) = dataset.load_all_data(ParamData().window_size, ParamData().K, ParamData().train_ratio)\n",
    "\n",
    "    clf = LinearSVC(random_state=0).fit(X_train, y_train)\n",
    "    res = np.sum(clf.predict(X_test)==y_test)/y_test.size\n",
    "    print(f\"{data_name}: {res}\")"
   ]
  }
 ],
 "metadata": {
  "kernelspec": {
   "display_name": "Python 3",
   "language": "python",
   "name": "python3"
  },
  "language_info": {
   "codemirror_mode": {
    "name": "ipython",
    "version": 3
   },
   "file_extension": ".py",
   "mimetype": "text/x-python",
   "name": "python",
   "nbconvert_exporter": "python",
   "pygments_lexer": "ipython3",
   "version": "3.8.5"
  }
 },
 "nbformat": 4,
 "nbformat_minor": 2
}
