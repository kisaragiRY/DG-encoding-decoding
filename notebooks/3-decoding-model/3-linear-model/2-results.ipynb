{
 "cells": [
  {
   "cell_type": "code",
   "execution_count": null,
   "metadata": {},
   "outputs": [],
   "source": [
    "import pickle\n",
    "import matplotlib.pyplot as plt\n",
    "import seaborn as sns\n",
    "import pandas as pd\n",
    "\n",
    "from param import *\n",
    "\n",
    "sns.set_theme(style=\"whitegrid\")\n",
    "output_dir = ParamDir().output_dir\n",
    "datalist = ParamDir().data_path_list"
   ]
  },
  {
   "cell_type": "code",
   "execution_count": null,
   "metadata": {},
   "outputs": [],
   "source": [
    "fig, ax = plt.subplots(figsize=(8,6), tight_layout = True, sharey=True)\n",
    "file_model = [\n",
    "    # (\"tsc_train_rocket_Ridge_threshold_segment_False\", \"Ridge Classification\"),\n",
    "    (\"tsc_train_rocket_SVM_threshold_segment_False\", \"SVM Classification\"),\n",
    "    # (\"tsc_train_rocket_Kmeans_threshold_segment_False\", \"KMeans\"),\n",
    "    # (\"tsc_train_rocket_Softmax_threshold_segment_False\", \"Softmax\"),\n",
    "    # (\"tsc_train_rocket_Ridge_threshold_segment_behavior shuffling\", \"Ridge Behavior Shuffle\"),\n",
    "    # (\"tsc_train_rocket_Ridge_threshold_segment_events shuffling\", \"Ridge Events Shuffle\"),\n",
    "    (\"tsc_train_rocket_SVM_threshold_segment_behavior shuffling\", \"SVM Behavior Shuffle\"),\n",
    "    (\"tsc_train_rocket_SVM_threshold_segment_events shuffling\", \"SVM Events Shuffle\"),\n",
    "\n",
    "]\n",
    "accu_list = []\n",
    "for file_name, model in file_model:\n",
    "    for m_id, data_dir in enumerate(datalist):\n",
    "        data_name = str(data_dir).split('/')[-1]\n",
    "        with open(ParamDir().output_dir/data_name/(f\"{file_name}.pickle\"),\"rb\") as f:\n",
    "            results = pickle.load(f)\n",
    "        accu = np.mean(results[\"scores\"])\n",
    "        if \"KO\" in data_name:\n",
    "            accu_list.append((accu, \"KO\", model))\n",
    "        else:\n",
    "            accu_list.append((accu, \"WT\", model))\n",
    "\n",
    "df = pd.DataFrame(accu_list, columns=[\"score\", \"mouse type\", \"model\"])\n",
    "sns.boxplot(x=\"mouse type\", y =\"score\", hue=\"model\", data=df, ax=ax)\n",
    "ax.set_ylabel(\"accuracy\")\n",
    "# ax.legend(bbox_to_anchor=(.3, 1.2))\n",
    "ax.set_title(\"Rocket Transform\")\n"
   ]
  }
 ],
 "metadata": {
  "language_info": {
   "name": "python"
  }
 },
 "nbformat": 4,
 "nbformat_minor": 2
}
