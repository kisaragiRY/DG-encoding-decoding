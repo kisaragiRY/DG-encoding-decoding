{
 "cells": [
  {
   "cell_type": "markdown",
   "metadata": {},
   "source": [
    "# How to use parallel computation to speed up the process?"
   ]
  },
  {
   "cell_type": "code",
   "execution_count": 1,
   "metadata": {},
   "outputs": [],
   "source": [
    "from pathlib import Path\n",
    "import os\n",
    "import pandas as pd\n",
    "import numpy as np\n",
    "from time import time\n",
    "from itertools import product\n",
    "from tqdm import tqdm\n",
    "from copy import deepcopy\n",
    "\n",
    "os.chdir(\"/work\")\n",
    "from modules.decoder import RidgeRegression\n",
    "from modules.model_selection import RidgeSigTest\n",
    "from modules.metrics import get_scorer"
   ]
  },
  {
   "cell_type": "markdown",
   "metadata": {},
   "source": [
    "## make data"
   ]
  },
  {
   "cell_type": "code",
   "execution_count": 5,
   "metadata": {},
   "outputs": [],
   "source": [
    "n_neurons = 30\n",
    "time_bins_train = 1000\n",
    "time_bins_test = 80\n",
    "n_positions = 4\n",
    "\n",
    "np.random.seed(0)\n",
    "X = np.random.rand(time_bins_train,n_neurons)\n",
    "y = np.random.uniform(low=-40, high=40, size=(time_bins_train,1))"
   ]
  },
  {
   "cell_type": "markdown",
   "metadata": {},
   "source": [
    "## train without parallel"
   ]
  },
  {
   "cell_type": "code",
   "execution_count": 7,
   "metadata": {},
   "outputs": [],
   "source": [
    "scorer = get_scorer(\"mean_square_error\")\n",
    "def split(X, n_split):\n",
    "    fold_size = int( len(X) / n_split )\n",
    "    for id_fold in range(n_split):\n",
    "        id_index = ( id_fold + 1 ) * fold_size\n",
    "        train_indexes, test_indexes = range(id_index-1), range(id_index-1, id_index)\n",
    "        yield  train_indexes, test_indexes\n",
    "def train(train_indexes, test_indexes, param):\n",
    "    X_train, X_test = X[train_indexes], X[test_indexes]\n",
    "    y_train, y_test = y[train_indexes], y[test_indexes]\n",
    "    rr = RidgeRegression()\n",
    "    rr.fit(X_train, y_train, param)    \n",
    "    rr.predict(X_test)\n",
    "    sig_tests = RidgeSigTest(rr)\n",
    "    result = {\n",
    "            \"train_scores\": scorer(y_train, np.einsum(\"ij,j->i\",X_train, rr.fitted_param)),\n",
    "            \"test_scores\" : scorer(y_test, rr.prediction),\n",
    "            \"fitted_param\": rr.fitted_param,\n",
    "            \"hyper_param\": param,\n",
    "            \"RSS\": sig_tests.RSS,\n",
    "            \"F_stat\": sig_tests.f_stat,\n",
    "            \"F_p_value\": sig_tests.f_p_value,\n",
    "            \"coeff_stats\": sig_tests.t_stat_list,\n",
    "            \"coeff_p_values\": sig_tests.t_p_value_list\n",
    "        }\n",
    "    return result"
   ]
  },
  {
   "cell_type": "code",
   "execution_count": 8,
   "metadata": {},
   "outputs": [
    {
     "name": "stderr",
     "output_type": "stream",
     "text": [
      "30it [00:06,  4.63it/s]\n"
     ]
    }
   ],
   "source": [
    "candidate_params = np.arange(6)\n",
    "for id_, (param, (train_indexes, test_indexes)) in tqdm(enumerate(product(candidate_params, split(X, 5)))):\n",
    "    train(train_indexes, test_indexes, param)"
   ]
  },
  {
   "cell_type": "markdown",
   "metadata": {},
   "source": [
    "## train with parallel"
   ]
  },
  {
   "cell_type": "code",
   "execution_count": 9,
   "metadata": {},
   "outputs": [],
   "source": [
    "from joblib import Parallel, delayed"
   ]
  },
  {
   "cell_type": "code",
   "execution_count": 16,
   "metadata": {},
   "outputs": [
    {
     "name": "stdout",
     "output_type": "stream",
     "text": [
      "CPU times: user 332 ms, sys: 906 ms, total: 1.24 s\n",
      "Wall time: 3 s\n"
     ]
    }
   ],
   "source": [
    "%%time\n",
    "candidate_params = np.arange(6)\n",
    "parallel = Parallel(n_jobs=-1)\n",
    "out = parallel(delayed(train)(train_indexes, test_indexes, param) for id_, (param, (train_indexes, test_indexes)) in enumerate(product(candidate_params, split(X, 5))))"
   ]
  },
  {
   "cell_type": "markdown",
   "metadata": {},
   "source": [
    "## call `evaluate_candidates`(with parallel) from `SearchCV`"
   ]
  },
  {
   "cell_type": "code",
   "execution_count": 14,
   "metadata": {},
   "outputs": [],
   "source": [
    "from modules.model_selection import SearchCV"
   ]
  },
  {
   "cell_type": "code",
   "execution_count": 17,
   "metadata": {},
   "outputs": [
    {
     "name": "stderr",
     "output_type": "stream",
     "text": [
      "30it [00:06,  4.71it/s]"
     ]
    },
    {
     "name": "stdout",
     "output_type": "stream",
     "text": [
      "CPU times: user 26 s, sys: 25.5 s, total: 51.5 s\n",
      "Wall time: 6.37 s\n"
     ]
    },
    {
     "name": "stderr",
     "output_type": "stream",
     "text": [
      "\n"
     ]
    }
   ],
   "source": [
    "%%time\n",
    "candidate_params = np.arange(6)\n",
    "search = SearchCV(RidgeRegression(), \"mean_square_error\", candidate_params, 5)\n",
    "search.evaluate_candidates(X, y)"
   ]
  }
 ],
 "metadata": {
  "kernelspec": {
   "display_name": "Python 3.8.5 64-bit",
   "language": "python",
   "name": "python3"
  },
  "language_info": {
   "codemirror_mode": {
    "name": "ipython",
    "version": 3
   },
   "file_extension": ".py",
   "mimetype": "text/x-python",
   "name": "python",
   "nbconvert_exporter": "python",
   "pygments_lexer": "ipython3",
   "version": "3.8.5"
  },
  "orig_nbformat": 4,
  "vscode": {
   "interpreter": {
    "hash": "aee8b7b246df8f9039afb4144a1f6fd8d2ca17a180786b69acc140d282b71a49"
   }
  }
 },
 "nbformat": 4,
 "nbformat_minor": 2
}
