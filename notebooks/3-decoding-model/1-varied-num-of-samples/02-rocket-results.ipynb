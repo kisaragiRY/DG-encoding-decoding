{
 "cells": [
  {
   "attachments": {},
   "cell_type": "markdown",
   "metadata": {},
   "source": [
    "# check the resutls from RocketClassifier\n",
    "Based on the data parameters from pre-training"
   ]
  },
  {
   "cell_type": "code",
   "execution_count": 1,
   "metadata": {},
   "outputs": [],
   "source": [
    "import pickle\n",
    "import matplotlib.pyplot as plt\n",
    "import seaborn as sns\n",
    "import pandas as pd\n",
    "\n",
    "from param import *\n",
    "\n",
    "sns.set_theme(style=\"whitegrid\")\n",
    "output_dir = ParamDir().output_dir\n",
    "datalist = ParamDir().data_path_list"
   ]
  },
  {
   "attachments": {},
   "cell_type": "markdown",
   "metadata": {},
   "source": [
    "## Balanced Threshold Based Segment Data"
   ]
  },
  {
   "cell_type": "code",
   "execution_count": 3,
   "metadata": {},
   "outputs": [
    {
     "ename": "FileNotFoundError",
     "evalue": "[Errno 2] No such file or directory: '/work/data/interim/time_series_classification/092717 OF SERT WT M32-n1/tsc_shuffle_SVM_threshold_segment_shuffling_train_rocket.pickle'",
     "output_type": "error",
     "traceback": [
      "\u001b[0;31m---------------------------------------------------------------------------\u001b[0m",
      "\u001b[0;31mFileNotFoundError\u001b[0m                         Traceback (most recent call last)",
      "\u001b[1;32m/work/notebooks/3-decoding-model/1-varied-num-of-samples/02-rocket-results.ipynb Cell 4\u001b[0m line \u001b[0;36m1\n\u001b[1;32m     <a href='vscode-notebook-cell://attached-container%2B7b22636f6e7461696e65724e616d65223a222f64672d656e636f6465722d6465636f646572222c2273657474696e6773223a7b22636f6e74657874223a226465736b746f702d6c696e7578227d7d/work/notebooks/3-decoding-model/1-varied-num-of-samples/02-rocket-results.ipynb#W3sdnNjb2RlLXJlbW90ZQ%3D%3D?line=14'>15</a>\u001b[0m \u001b[39mfor\u001b[39;00m m_id, data_dir \u001b[39min\u001b[39;00m \u001b[39menumerate\u001b[39m(datalist):\n\u001b[1;32m     <a href='vscode-notebook-cell://attached-container%2B7b22636f6e7461696e65724e616d65223a222f64672d656e636f6465722d6465636f646572222c2273657474696e6773223a7b22636f6e74657874223a226465736b746f702d6c696e7578227d7d/work/notebooks/3-decoding-model/1-varied-num-of-samples/02-rocket-results.ipynb#W3sdnNjb2RlLXJlbW90ZQ%3D%3D?line=15'>16</a>\u001b[0m     data_name \u001b[39m=\u001b[39m \u001b[39mstr\u001b[39m(data_dir)\u001b[39m.\u001b[39msplit(\u001b[39m'\u001b[39m\u001b[39m/\u001b[39m\u001b[39m'\u001b[39m)[\u001b[39m-\u001b[39m\u001b[39m1\u001b[39m]\n\u001b[0;32m---> <a href='vscode-notebook-cell://attached-container%2B7b22636f6e7461696e65724e616d65223a222f64672d656e636f6465722d6465636f646572222c2273657474696e6773223a7b22636f6e74657874223a226465736b746f702d6c696e7578227d7d/work/notebooks/3-decoding-model/1-varied-num-of-samples/02-rocket-results.ipynb#W3sdnNjb2RlLXJlbW90ZQ%3D%3D?line=16'>17</a>\u001b[0m     \u001b[39mwith\u001b[39;00m \u001b[39mopen\u001b[39;49m(ParamDir()\u001b[39m.\u001b[39;49moutput_dir\u001b[39m/\u001b[39;49mdata_name\u001b[39m/\u001b[39;49m(\u001b[39mf\u001b[39;49m\u001b[39m\"\u001b[39;49m\u001b[39m{\u001b[39;49;00mfile_name\u001b[39m}\u001b[39;49;00m\u001b[39m.pickle\u001b[39;49m\u001b[39m\"\u001b[39;49m),\u001b[39m\"\u001b[39;49m\u001b[39mrb\u001b[39;49m\u001b[39m\"\u001b[39;49m) \u001b[39mas\u001b[39;00m f:\n\u001b[1;32m     <a href='vscode-notebook-cell://attached-container%2B7b22636f6e7461696e65724e616d65223a222f64672d656e636f6465722d6465636f646572222c2273657474696e6773223a7b22636f6e74657874223a226465736b746f702d6c696e7578227d7d/work/notebooks/3-decoding-model/1-varied-num-of-samples/02-rocket-results.ipynb#W3sdnNjb2RlLXJlbW90ZQ%3D%3D?line=17'>18</a>\u001b[0m         results \u001b[39m=\u001b[39m pickle\u001b[39m.\u001b[39mload(f)\n\u001b[1;32m     <a href='vscode-notebook-cell://attached-container%2B7b22636f6e7461696e65724e616d65223a222f64672d656e636f6465722d6465636f646572222c2273657474696e6773223a7b22636f6e74657874223a226465736b746f702d6c696e7578227d7d/work/notebooks/3-decoding-model/1-varied-num-of-samples/02-rocket-results.ipynb#W3sdnNjb2RlLXJlbW90ZQ%3D%3D?line=18'>19</a>\u001b[0m     accu \u001b[39m=\u001b[39m np\u001b[39m.\u001b[39mmean(results[\u001b[39m\"\u001b[39m\u001b[39mscores\u001b[39m\u001b[39m\"\u001b[39m])\n",
      "\u001b[0;31mFileNotFoundError\u001b[0m: [Errno 2] No such file or directory: '/work/data/interim/time_series_classification/092717 OF SERT WT M32-n1/tsc_shuffle_SVM_threshold_segment_shuffling_train_rocket.pickle'"
     ]
    },
    {
     "data": {
      "image/png": "[encoded data removed]",
      "text/plain": [
       "<Figure size 800x600 with 1 Axes>"
      ]
     },
     "metadata": {},
     "output_type": "display_data"
    }
   ],
   "source": [
    "fig, ax = plt.subplots(figsize=(8,6), tight_layout = True, sharey=True)\n",
    "file_model = [\n",
    "    # (\"tsc_train_rocket_Ridge_threshold_segment_False\", \"Ridge Classification\"),\n",
    "    (\"tsc_train_rocket_SVM_threshold_segment_False\", \"SVM Classification\"),\n",
    "    # (\"tsc_train_rocket_Kmeans_threshold_segment_False\", \"KMeans\"),\n",
    "    # (\"tsc_train_rocket_Softmax_threshold_segment_False\", \"Softmax\"),\n",
    "    # (\"tsc_train_rocket_Ridge_threshold_segment_behavior shuffling\", \"Ridge Behavior Shuffle\"),\n",
    "    # (\"tsc_train_rocket_Ridge_threshold_segment_events shuffling\", \"Ridge Events Shuffle\"),\n",
    "    # (\"tsc_train_rocket_SVM_threshold_segment_behavior shuffling\", \"SVM Behavior Shuffle\"),\n",
    "    (\"tsc_shuffle_SVM_threshold_segment_shuffling_train_rocket\", \"SVM Events Shuffle\"),\n",
    "\n",
    "]\n",
    "accu_list = []\n",
    "for file_name, model in file_model:\n",
    "    for m_id, data_dir in enumerate(datalist):\n",
    "        data_name = str(data_dir).split('/')[-1]\n",
    "        with open(ParamDir().output_dir/data_name/(f\"{file_name}.pickle\"),\"rb\") as f:\n",
    "            results = pickle.load(f)\n",
    "        accu = np.mean(results[\"scores\"])\n",
    "        if \"KO\" in data_name:\n",
    "            accu_list.append((accu, \"KO\", model))\n",
    "        else:\n",
    "            accu_list.append((accu, \"WT\", model))\n",
    "\n",
    "df = pd.DataFrame(accu_list, columns=[\"score\", \"mouse type\", \"model\"])\n",
    "sns.boxplot(x=\"mouse type\", y =\"score\", hue=\"model\", data=df, ax=ax)\n",
    "ax.set_ylabel(\"accuracy\")\n",
    "# ax.legend(bbox_to_anchor=(.3, 1.2))\n",
    "ax.set_title(\"Rocket Transform\")\n"
   ]
  },
  {
   "attachments": {},
   "cell_type": "markdown",
   "metadata": {},
   "source": [
    "## Paired t-test"
   ]
  },
  {
   "attachments": {},
   "cell_type": "markdown",
   "metadata": {},
   "source": [
    "### Ridge"
   ]
  },
  {
   "cell_type": "code",
   "execution_count": 3,
   "metadata": {},
   "outputs": [
    {
     "name": "stdout",
     "output_type": "stream",
     "text": [
      "WT:  0.18, KO:  0.30\n"
     ]
    }
   ],
   "source": [
    "import scipy.stats as stats\n",
    "file_model = [\n",
    "    (\"tsc_train_rocket_Ridge_threshold_segment_False\", \"original\"),\n",
    "    (\"tsc_train_rocket_Ridge_threshold_segment_behavior shuffling\", \"shuffle\"),\n",
    "    # (\"tsc_train_rocket_Ridge_threshold_segment_events shuffling\", \"shuffle\"),\n",
    "]\n",
    "acc_WT, acc_KO = [], []\n",
    "for m_id, data_dir in enumerate(datalist):\n",
    "    for file_name, data_type in file_model:\n",
    "        data_name = str(data_dir).split('/')[-1]\n",
    "        with open(ParamDir().output_dir/data_name/(f\"{file_name}.pickle\"),\"rb\") as f:\n",
    "            results = pickle.load(f)\n",
    "        if \"KO\" in str(data_dir):\n",
    "            acc_KO.append(((np.mean(results[\"scores\"])), data_type))\n",
    "        else:\n",
    "            acc_WT.append(((np.mean(results[\"scores\"])), data_type))\n",
    "\n",
    "            \n",
    "df_acc_WT = pd.DataFrame(acc_WT, columns=[\"accu\", \"data type\"])\n",
    "WT_p = stats.ttest_rel(df_acc_WT[df_acc_WT[\"data type\"]==\"original\"][\"accu\"].values,\n",
    "                df_acc_WT[df_acc_WT[\"data type\"]==\"shuffle\"][\"accu\"].values).pvalue\n",
    "df_acc_KO = pd.DataFrame(acc_KO, columns=[\"accu\", \"data type\"])\n",
    "KO_p = stats.ttest_rel(df_acc_KO[df_acc_KO[\"data type\"]==\"original\"][\"accu\"].values,\n",
    "                df_acc_KO[df_acc_KO[\"data type\"]==\"shuffle\"][\"accu\"].values).pvalue\n",
    "print(f\"WT: {WT_p: .2f}, KO: {KO_p: .2f}\")\n"
   ]
  },
  {
   "attachments": {},
   "cell_type": "markdown",
   "metadata": {},
   "source": [
    "### SVM"
   ]
  },
  {
   "cell_type": "code",
   "execution_count": 4,
   "metadata": {},
   "outputs": [
    {
     "name": "stdout",
     "output_type": "stream",
     "text": [
      "WT:  0.10, KO:  0.37\n"
     ]
    }
   ],
   "source": [
    "import scipy.stats as stats\n",
    "file_model = [\n",
    "    (\"tsc_train_rocket_SVM_threshold_segment_False\", \"original\"),\n",
    "    (\"tsc_train_rocket_SVM_threshold_segment_behavior shuffling\", \"shuffle\"),\n",
    "    # (\"tsc_train_rocket_SVM_threshold_segment_events shuffling\", \"shuffle\"),\n",
    "]\n",
    "acc_WT, acc_KO = [], []\n",
    "for m_id, data_dir in enumerate(datalist):\n",
    "    for file_name, data_type in file_model:\n",
    "        data_name = str(data_dir).split('/')[-1]\n",
    "        with open(ParamDir().output_dir/data_name/(f\"{file_name}.pickle\"),\"rb\") as f:\n",
    "            results = pickle.load(f)\n",
    "        if \"KO\" in str(data_dir):\n",
    "            acc_KO.append(((np.mean(results[\"scores\"])), data_type))\n",
    "        else:\n",
    "            acc_WT.append(((np.mean(results[\"scores\"])), data_type))\n",
    "\n",
    "            \n",
    "df_acc_WT = pd.DataFrame(acc_WT, columns=[\"accu\", \"data type\"])\n",
    "WT_p = stats.ttest_rel(df_acc_WT[df_acc_WT[\"data type\"]==\"original\"][\"accu\"].values,\n",
    "                df_acc_WT[df_acc_WT[\"data type\"]==\"shuffle\"][\"accu\"].values).pvalue\n",
    "df_acc_KO = pd.DataFrame(acc_KO, columns=[\"accu\", \"data type\"])\n",
    "KO_p = stats.ttest_rel(df_acc_KO[df_acc_KO[\"data type\"]==\"original\"][\"accu\"].values,\n",
    "                df_acc_KO[df_acc_KO[\"data type\"]==\"shuffle\"][\"accu\"].values).pvalue\n",
    "print(f\"WT: {WT_p: .2f}, KO: {KO_p: .2f}\")\n"
   ]
  }
 ],
 "metadata": {
  "kernelspec": {
   "display_name": "Python 3",
   "language": "python",
   "name": "python3"
  },
  "language_info": {
   "codemirror_mode": {
    "name": "ipython",
    "version": 3
   },
   "file_extension": ".py",
   "mimetype": "text/x-python",
   "name": "python",
   "nbconvert_exporter": "python",
   "pygments_lexer": "ipython3",
   "version": "3.8.5"
  },
  "orig_nbformat": 4,
  "vscode": {
   "interpreter": {
    "hash": "aee8b7b246df8f9039afb4144a1f6fd8d2ca17a180786b69acc140d282b71a49"
   }
  }
 },
 "nbformat": 4,
 "nbformat_minor": 2
}
