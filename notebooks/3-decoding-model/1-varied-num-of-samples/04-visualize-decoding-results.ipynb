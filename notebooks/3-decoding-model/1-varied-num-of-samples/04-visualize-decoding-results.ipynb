{
 "cells": [
  {
   "cell_type": "markdown",
   "metadata": {},
   "source": [
    "# Visualize the decoding results "
   ]
  },
  {
   "cell_type": "code",
   "execution_count": 1,
   "metadata": {},
   "outputs": [],
   "source": [
    "import pickle\n",
    "import matplotlib.pyplot as plt\n",
    "import seaborn as sns\n",
    "import pandas as pd\n",
    "from sklearn.pipeline import Pipeline\n",
    "from sklearn.preprocessing import Normalizer, StandardScaler\n",
    "from sktime.transformations.panel.rocket import Rocket\n",
    "\n",
    "from param import *\n",
    "from modules.dataloader import UniformSegmentDataset\n"
   ]
  },
  {
   "cell_type": "code",
   "execution_count": 2,
   "metadata": {},
   "outputs": [],
   "source": [
    "WT_list = [str(data_dir).split('/')[-1]  for data_dir in ParamDir().data_path_list if \"KO\" not in str(data_dir)]\n",
    "data_name = WT_list[4]\n",
    "\n",
    "with open(ParamDir().output_dir/data_name/\"tsc_train_rocket_SVM_threshold_segment_False.pickle\",\"rb\") as f:\n",
    "    original_results = pickle.load(f)\n",
    "\n",
    "clf = original_results[\"estimator\"]\n",
    "(X_train, y_train), (X_test, y_test) = original_results[\"data\"]\n",
    "\n",
    "y_predicted = clf.predict(X_test)\n",
    "    "
   ]
  },
  {
   "cell_type": "code",
   "execution_count": 3,
   "metadata": {},
   "outputs": [
    {
     "data": {
      "text/plain": [
       "<matplotlib.legend.Legend at 0x7f979cd37dc0>"
      ]
     },
     "execution_count": 3,
     "metadata": {},
     "output_type": "execute_result"
    },
    {
     "data": {
      "image/png": "[encoded data removed]",
      "text/plain": [
       "<Figure size 600x200 with 1 Axes>"
      ]
     },
     "metadata": {},
     "output_type": "display_data"
    }
   ],
   "source": [
    "fig, ax = plt.subplots(figsize=(6,2))\n",
    "sns.despine()\n",
    "l1 = ax.plot([int(i) for i in y_predicted], \"o\", c=\"red\", alpha=.5, markersize=4, label=\"pred\")\n",
    "# l2 = ax.plot([int(i) for i in y_test], \"_\", c=\"black\", markersize=8, label=\"test\")\n",
    "l2 = ax.plot([int(i) for i in y_test], c=\"black\", alpha=.5, label=\"test\")\n",
    "\n",
    "ax.set_yticks([1,2,3,4], labels=[1,2,3,4])\n",
    "ax.set_xlabel(\"data points\")\n",
    "ax.set_ylabel(\"position\")\n",
    "ax.set_title(\"decoding example\")\n",
    "\n",
    "ax.legend(l1+l2, [i[0].get_label() for i in [l1, l2]], bbox_to_anchor=(1,-.2), ncol=2)"
   ]
  },
  {
   "cell_type": "code",
   "execution_count": 4,
   "metadata": {},
   "outputs": [
    {
     "data": {
      "text/plain": [
       "array(['4', '4', '4', '4', '4', '4', '1', '3', '2', '1', '1', '2', '2',\n",
       "       '4', '2', '4', '3', '2', '3', '1', '3', '3', '3', '2'], dtype='<U1')"
      ]
     },
     "execution_count": 4,
     "metadata": {},
     "output_type": "execute_result"
    }
   ],
   "source": [
    "y_predicted"
   ]
  },
  {
   "cell_type": "code",
   "execution_count": 5,
   "metadata": {},
   "outputs": [
    {
     "data": {
      "text/plain": [
       "array(['4', '4', '4', '4', '4', '4', '1', '1', '1', '1', '1', '1', '2',\n",
       "       '2', '2', '2', '2', '2', '3', '3', '3', '3', '3', '3'], dtype='<U1')"
      ]
     },
     "execution_count": 5,
     "metadata": {},
     "output_type": "execute_result"
    }
   ],
   "source": [
    "y_test"
   ]
  }
 ],
 "metadata": {
  "kernelspec": {
   "display_name": "Python 3",
   "language": "python",
   "name": "python3"
  },
  "language_info": {
   "codemirror_mode": {
    "name": "ipython",
    "version": 3
   },
   "file_extension": ".py",
   "mimetype": "text/x-python",
   "name": "python",
   "nbconvert_exporter": "python",
   "pygments_lexer": "ipython3",
   "version": "3.10.13"
  },
  "orig_nbformat": 4
 },
 "nbformat": 4,
 "nbformat_minor": 2
}
