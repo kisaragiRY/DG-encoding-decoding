{
 "cells": [
  {
   "attachments": {},
   "cell_type": "markdown",
   "metadata": {},
   "source": [
    "# Data Reproductivity Check"
   ]
  },
  {
   "cell_type": "code",
   "execution_count": 1,
   "metadata": {},
   "outputs": [],
   "source": [
    "from sktime.transformations.panel.rocket import Rocket\n",
    "import seaborn as sns\n",
    "import matplotlib.pyplot as plt\n",
    "\n",
    "from dataloader.dataset import UniformSegmentDataset\n",
    "from param import *\n",
    "from utils.util import *\n",
    "\n",
    "sns.set_theme(style=\"whitegrid\")\n",
    "output_dir = ParamDir().output_dir\n",
    "datalist = ParamDir().data_path_list\n"
   ]
  },
  {
   "attachments": {},
   "cell_type": "markdown",
   "metadata": {},
   "source": [
    "### Non-shuffle"
   ]
  },
  {
   "cell_type": "code",
   "execution_count": null,
   "metadata": {},
   "outputs": [],
   "source": [
    "data_dir = datalist[2] # A WT mouse\n",
    "dataset1 = UniformSegmentDataset(data_dir, ParamData().mobility, False, ParamData().random_state)\n",
    "(X_train1, y_train1), (_) = dataset1.load_all_data(ParamData().window_size, ParamData().train_ratio, ParamData().K)\n",
    "\n",
    "dataset2 = UniformSegmentDataset(data_dir, ParamData().mobility, False, ParamData().random_state)\n",
    "(X_train2, y_train2), (_) = dataset2.load_all_data(ParamData().window_size, ParamData().train_ratio, ParamData().K)"
   ]
  },
  {
   "cell_type": "code",
   "execution_count": null,
   "metadata": {},
   "outputs": [
    {
     "name": "stdout",
     "output_type": "stream",
     "text": [
      "Shape \n",
      "X1:(56, 66, 16), X2:(56, 66, 16)\n"
     ]
    }
   ],
   "source": [
    "print(f\"Shape \\nX1:{X_train1.shape}, X2:{X_train2.shape}\")"
   ]
  },
  {
   "cell_type": "code",
   "execution_count": null,
   "metadata": {},
   "outputs": [
    {
     "data": {
      "text/plain": [
       "False"
      ]
     },
     "execution_count": 20,
     "metadata": {},
     "output_type": "execute_result"
    }
   ],
   "source": [
    "(X_train1 == X_train2).all()"
   ]
  },
  {
   "attachments": {},
   "cell_type": "markdown",
   "metadata": {},
   "source": [
    "#### `split_data`"
   ]
  },
  {
   "cell_type": "code",
   "execution_count": null,
   "metadata": {},
   "outputs": [
    {
     "data": {
      "text/plain": [
       "True"
      ]
     },
     "execution_count": 29,
     "metadata": {},
     "output_type": "execute_result"
    }
   ],
   "source": [
    "(X_train1, y_train1), (_) = dataset1.split_data(dataset1.X, dataset1.y, ParamData().train_ratio)\n",
    "(X_train2, y_train2), (_) = dataset2.split_data(dataset2.X, dataset2.y, ParamData().train_ratio)\n",
    "(X_train1 == X_train2).all()"
   ]
  },
  {
   "attachments": {},
   "cell_type": "markdown",
   "metadata": {},
   "source": [
    "#### `segment_with_threshold` and `get_segment_data`"
   ]
  },
  {
   "cell_type": "code",
   "execution_count": null,
   "metadata": {},
   "outputs": [
    {
     "data": {
      "text/plain": [
       "True"
      ]
     },
     "execution_count": 30,
     "metadata": {},
     "output_type": "execute_result"
    }
   ],
   "source": [
    "K, window_size = 16, 8\n",
    "segment_ind = segment_with_threshold(y_train1, K) # get the segmentation indices\n",
    "X_train_new1, y_train1 = get_segment_data(segment_ind, K, window_size, X_train1, y_train1)\n",
    "# test set\n",
    "segment_ind = segment_with_threshold(y_train2, K) # get the segmentation indices\n",
    "X_train_new2, y_train2 = get_segment_data(segment_ind, K, window_size, X_train2, y_train2)\n",
    "\n",
    "(X_train_new1 == X_train_new2).all()"
   ]
  },
  {
   "attachments": {},
   "cell_type": "markdown",
   "metadata": {},
   "source": [
    "#### `downsample`"
   ]
  },
  {
   "cell_type": "code",
   "execution_count": null,
   "metadata": {},
   "outputs": [
    {
     "name": "stdout",
     "output_type": "stream",
     "text": [
      "X: False, y: True\n"
     ]
    }
   ],
   "source": [
    "X_train1, y_train1 = downsample(X_train_new1, y_train1)\n",
    "X_train2, y_train2 = downsample(X_train_new2, y_train2)\n",
    "\n",
    "print(f\"X: {(X_train1 == X_train2).all()}, y: {(y_train1 == y_train2).all()}\")"
   ]
  },
  {
   "attachments": {},
   "cell_type": "markdown",
   "metadata": {},
   "source": [
    "#### Result\n",
    "after seeding `downsample`"
   ]
  },
  {
   "cell_type": "code",
   "execution_count": null,
   "metadata": {},
   "outputs": [
    {
     "name": "stdout",
     "output_type": "stream",
     "text": [
      "Train:\n",
      "X:True, y:True\n",
      "Test:\n",
      "X:True, y:True\n"
     ]
    }
   ],
   "source": [
    "data_dir = datalist[2] # A WT mouse\n",
    "dataset1 = UniformSegmentDataset(data_dir, ParamData().mobility, False, ParamData().random_state)\n",
    "(X_train1, y_train1), (X_test1, y_test1) = dataset1.load_all_data(ParamData().window_size, ParamData().train_ratio, ParamData().K)\n",
    "\n",
    "dataset2 = UniformSegmentDataset(data_dir, ParamData().mobility, False, ParamData().random_state)\n",
    "(X_train2, y_train2), (X_test2, y_test2) = dataset2.load_all_data(ParamData().window_size, ParamData().train_ratio, ParamData().K)\n",
    "\n",
    "print(f\"Train:\\nX:{(X_train1 == X_train2).all()}, y:{(y_train1 == y_train2).all()}\")\n",
    "print(f\"Test:\\nX:{(X_test1 == X_test2).all()}, y:{(y_test1 == y_test2).all()}\")"
   ]
  },
  {
   "attachments": {},
   "cell_type": "markdown",
   "metadata": {},
   "source": [
    "### Shuffle"
   ]
  },
  {
   "attachments": {},
   "cell_type": "markdown",
   "metadata": {},
   "source": [
    "#### \"behavior shuffling\""
   ]
  },
  {
   "cell_type": "code",
   "execution_count": null,
   "metadata": {},
   "outputs": [
    {
     "name": "stdout",
     "output_type": "stream",
     "text": [
      "Shape \n",
      "X1:(72, 66, 16), X2:(52, 66, 16)\n"
     ]
    }
   ],
   "source": [
    "data_dir = datalist[2] # A WT mouse\n",
    "dataset1 = UniformSegmentDataset(data_dir, ParamData().mobility, \"behavior shuffling\", ParamData().random_state)\n",
    "(X_train1, y_train1), (X_test1, y_test1) = dataset1.load_all_data(ParamData().window_size, ParamData().train_ratio, ParamData().K)\n",
    "\n",
    "dataset2 = UniformSegmentDataset(data_dir, ParamData().mobility, \"behavior shuffling\", ParamData().random_state)\n",
    "(X_train2, y_train2), (X_test2, y_test2) = dataset2.load_all_data(ParamData().window_size, ParamData().train_ratio, ParamData().K)\n",
    "\n",
    "print(f\"Shape \\nX1:{X_train1.shape}, X2:{X_train2.shape}\")"
   ]
  },
  {
   "attachments": {},
   "cell_type": "markdown",
   "metadata": {},
   "source": [
    "##### `_shuffle`"
   ]
  },
  {
   "cell_type": "code",
   "execution_count": null,
   "metadata": {},
   "outputs": [
    {
     "name": "stdout",
     "output_type": "stream",
     "text": [
      "random_state:20230411\n",
      "coords_xy: False\n"
     ]
    }
   ],
   "source": [
    "print(f\"random_state:{dataset1.randome_state}\")\n",
    "coords_xy1 = dataset1.coords_xy\n",
    "dataset1._shuffle()\n",
    "coords_xy2 = dataset1.coords_xy\n",
    "print(f\"coords_xy: {(coords_xy1 == coords_xy2).all()}\")"
   ]
  },
  {
   "attachments": {},
   "cell_type": "markdown",
   "metadata": {},
   "source": [
    "##### Results"
   ]
  },
  {
   "cell_type": "code",
   "execution_count": null,
   "metadata": {},
   "outputs": [
    {
     "name": "stdout",
     "output_type": "stream",
     "text": [
      "Train:\n",
      "X:True, y:True\n",
      "Test:\n",
      "X:True, y:True\n"
     ]
    }
   ],
   "source": [
    "data_dir = datalist[2] # A WT mouse\n",
    "dataset1 = UniformSegmentDataset(data_dir, ParamData().mobility, \"behavior shuffling\", ParamData().random_state)\n",
    "(X_train1, y_train1), (X_test1, y_test1) = dataset1.load_all_data(ParamData().window_size, ParamData().train_ratio, ParamData().K)\n",
    "\n",
    "dataset2 = UniformSegmentDataset(data_dir, ParamData().mobility, \"behavior shuffling\", ParamData().random_state)\n",
    "(X_train2, y_train2), (X_test2, y_test2) = dataset2.load_all_data(ParamData().window_size, ParamData().train_ratio, ParamData().K)\n",
    "\n",
    "print(f\"Train:\\nX:{(X_train1 == X_train2).all()}, y:{(y_train1 == y_train2).all()}\")\n",
    "print(f\"Test:\\nX:{(X_test1 == X_test2).all()}, y:{(y_test1 == y_test2).all()}\")"
   ]
  },
  {
   "attachments": {},
   "cell_type": "markdown",
   "metadata": {},
   "source": [
    "#### \"segment label shuffling\""
   ]
  },
  {
   "cell_type": "code",
   "execution_count": 2,
   "metadata": {},
   "outputs": [
    {
     "name": "stdout",
     "output_type": "stream",
     "text": [
      "Shape \n",
      "X1:(56, 66, 16), X2:(56, 66, 16)\n"
     ]
    }
   ],
   "source": [
    "data_dir = datalist[2] # A WT mouse\n",
    "dataset1 = UniformSegmentDataset(data_dir, ParamData().mobility, \"segment label shuffling\", ParamData().random_state)\n",
    "(X_train1, y_train1), (X_test1, y_test1) = dataset1.load_all_data(ParamData().window_size, ParamData().K, ParamData().train_ratio)\n",
    "\n",
    "dataset2 = UniformSegmentDataset(data_dir, ParamData().mobility, \"segment label shuffling\", ParamData().random_state)\n",
    "(X_train2, y_train2), (X_test2, y_test2) = dataset2.load_all_data(ParamData().window_size, ParamData().K, ParamData().train_ratio)\n",
    "\n",
    "print(f\"Shape \\nX1:{X_train1.shape}, X2:{X_train2.shape}\")"
   ]
  },
  {
   "attachments": {},
   "cell_type": "markdown",
   "metadata": {},
   "source": [
    "##### Results"
   ]
  },
  {
   "cell_type": "code",
   "execution_count": 5,
   "metadata": {},
   "outputs": [
    {
     "name": "stdout",
     "output_type": "stream",
     "text": [
      "Train:\n",
      "X:True, y:True\n",
      "Test:\n",
      "X:True, y:True\n"
     ]
    }
   ],
   "source": [
    "data_dir = datalist[2] # A WT mouse\n",
    "dataset1 = UniformSegmentDataset(data_dir, ParamData().mobility, \"segment label shuffling\", ParamData().random_state)\n",
    "(X_train1, y_train1), (X_test1, y_test1) = dataset1.load_all_data(ParamData().window_size, ParamData().K, ParamData().train_ratio)\n",
    "\n",
    "dataset2 = UniformSegmentDataset(data_dir, ParamData().mobility, \"segment label shuffling\", ParamData().random_state)\n",
    "(X_train2, y_train2), (X_test2, y_test2) = dataset2.load_all_data(ParamData().window_size, ParamData().K, ParamData().train_ratio)\n",
    "\n",
    "print(f\"Train:\\nX:{(X_train1 == X_train2).all()}, y:{(y_train1 == y_train2).all()}\")\n",
    "print(f\"Test:\\nX:{(X_test1 == X_test2).all()}, y:{(y_test1 == y_test2).all()}\")"
   ]
  }
 ],
 "metadata": {
  "kernelspec": {
   "display_name": "Python 3",
   "language": "python",
   "name": "python3"
  },
  "language_info": {
   "codemirror_mode": {
    "name": "ipython",
    "version": 3
   },
   "file_extension": ".py",
   "mimetype": "text/x-python",
   "name": "python",
   "nbconvert_exporter": "python",
   "pygments_lexer": "ipython3",
   "version": "3.8.5"
  },
  "orig_nbformat": 4
 },
 "nbformat": 4,
 "nbformat_minor": 2
}
