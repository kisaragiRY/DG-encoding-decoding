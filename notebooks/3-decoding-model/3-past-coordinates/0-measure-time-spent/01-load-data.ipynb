{
 "cells": [
  {
   "cell_type": "markdown",
   "metadata": {},
   "source": [
    "# time spent on data loading"
   ]
  },
  {
   "cell_type": "code",
   "execution_count": 2,
   "metadata": {},
   "outputs": [],
   "source": [
    "from pathlib import Path\n",
    "import os\n",
    "import pandas as pd\n",
    "import numpy as np\n",
    "from time import time\n",
    "\n",
    "os.chdir(\"/work\")\n"
   ]
  },
  {
   "cell_type": "markdown",
   "metadata": {},
   "source": [
    "## reading each file"
   ]
  },
  {
   "cell_type": "code",
   "execution_count": 5,
   "metadata": {},
   "outputs": [
    {
     "name": "stdout",
     "output_type": "stream",
     "text": [
      "time spent on reading spikes excel: 0.11 s\n",
      "time spent on reading spikes csv: 0.00 s\n",
      "time spent on reading coord excel: 0.01 s\n",
      "time spent on reading coord csv: 0.00 s\n"
     ]
    }
   ],
   "source": [
    "DATA_DIR = Path('data/alldata/')\n",
    "datalist = np.array([x for x in DATA_DIR.iterdir()])\n",
    "for data_dir in datalist[[1]]:\n",
    "    excel_s_t = time()\n",
    "    spikes_df = pd.read_excel(data_dir/'traces.xlsx',index_col=0)\n",
    "    excel_e_t = time()\n",
    "    print(f\"time spent on reading spikes excel: {(excel_e_t-excel_s_t)/60 :.2f} s\")\n",
    "\n",
    "    csv_s_t = time()\n",
    "    spikes_df = pd.read_csv(data_dir/'traces.csv',index_col=0)\n",
    "    csv_e_t = time()\n",
    "    print(f\"time spent on reading spikes csv: {(csv_e_t-csv_s_t)/60 :.2f} s\")\n",
    "\n",
    "    excel_s_t = time()\n",
    "    coord_df = pd.read_excel(data_dir/'position.xlsx',index_col=0)\n",
    "    excel_e_t = time()\n",
    "    print(f\"time spent on reading coord excel: {(excel_e_t-excel_s_t)/60 :.2f} s\")\n",
    "\n",
    "    csv_s_t = time()\n",
    "    coord_df = pd.read_csv(data_dir/'position.csv',index_col=0)\n",
    "    csv_e_t = time()\n",
    "    print(f\"time spent on reading coord csv: {(csv_e_t-csv_s_t)/60 :.2f} s\")"
   ]
  },
  {
   "cell_type": "markdown",
   "metadata": {},
   "source": [
    "## cell execution time on reading excel"
   ]
  },
  {
   "cell_type": "code",
   "execution_count": 6,
   "metadata": {},
   "outputs": [
    {
     "name": "stdout",
     "output_type": "stream",
     "text": [
      "time spent on reading spikes excel: 0.12 s\n",
      "time spent on reading coord excel: 0.01 s\n",
      "CPU times: user 7.84 s, sys: 71.4 ms, total: 7.92 s\n",
      "Wall time: 7.91 s\n"
     ]
    }
   ],
   "source": [
    "%%time\n",
    "for data_dir in datalist[[1]]:\n",
    "    excel_s_t = time()\n",
    "    spikes_df = pd.read_excel(data_dir/'traces.xlsx',index_col=0)\n",
    "    excel_e_t = time()\n",
    "    print(f\"time spent on reading spikes excel: {(excel_e_t-excel_s_t)/60 :.2f} s\")\n",
    "\n",
    "    excel_s_t = time()\n",
    "    coord_df = pd.read_excel(data_dir/'position.xlsx',index_col=0)\n",
    "    excel_e_t = time()\n",
    "    print(f\"time spent on reading coord excel: {(excel_e_t-excel_s_t)/60 :.2f} s\")"
   ]
  },
  {
   "cell_type": "markdown",
   "metadata": {},
   "source": [
    "## cell execution time on reading csv"
   ]
  },
  {
   "cell_type": "code",
   "execution_count": 7,
   "metadata": {},
   "outputs": [
    {
     "name": "stdout",
     "output_type": "stream",
     "text": [
      "time spent on reading spikes csv: 0.00 s\n",
      "time spent on reading coord csv: 0.00 s\n",
      "CPU times: user 50.1 ms, sys: 7.04 ms, total: 57.2 ms\n",
      "Wall time: 53.1 ms\n"
     ]
    }
   ],
   "source": [
    "%%time\n",
    "for data_dir in datalist[[1]]:\n",
    "    csv_s_t = time()\n",
    "    spikes_df = pd.read_csv(data_dir/'traces.csv',index_col=0)\n",
    "    csv_e_t = time()\n",
    "    print(f\"time spent on reading spikes csv: {(csv_e_t-csv_s_t)/60 :.2f} s\")\n",
    "\n",
    "    csv_s_t = time()\n",
    "    coord_df = pd.read_csv(data_dir/'position.csv',index_col=0)\n",
    "    csv_e_t = time()\n",
    "    print(f\"time spent on reading coord csv: {(csv_e_t-csv_s_t)/60 :.2f} s\")"
   ]
  }
 ],
 "metadata": {
  "kernelspec": {
   "display_name": "Python 3.8.5 64-bit",
   "language": "python",
   "name": "python3"
  },
  "language_info": {
   "codemirror_mode": {
    "name": "ipython",
    "version": 3
   },
   "file_extension": ".py",
   "mimetype": "text/x-python",
   "name": "python",
   "nbconvert_exporter": "python",
   "pygments_lexer": "ipython3",
   "version": "3.8.5"
  },
  "orig_nbformat": 4,
  "vscode": {
   "interpreter": {
    "hash": "aee8b7b246df8f9039afb4144a1f6fd8d2ca17a180786b69acc140d282b71a49"
   }
  }
 },
 "nbformat": 4,
 "nbformat_minor": 2
}
