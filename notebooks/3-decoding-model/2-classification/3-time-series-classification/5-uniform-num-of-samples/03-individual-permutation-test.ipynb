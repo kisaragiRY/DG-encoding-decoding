{
 "cells": [
  {
   "cell_type": "code",
   "execution_count": 1,
   "metadata": {},
   "outputs": [],
   "source": [
    "import pickle\n",
    "import matplotlib.pyplot as plt\n",
    "import seaborn as sns\n",
    "import pandas as pd\n",
    "\n",
    "from param import *\n",
    "\n",
    "sns.set_theme(style=\"whitegrid\")\n",
    "output_dir = ParamDir().output_dir\n",
    "datalist = ParamDir().data_list"
   ]
  },
  {
   "attachments": {},
   "cell_type": "markdown",
   "metadata": {},
   "source": [
    "## Ridge"
   ]
  },
  {
   "cell_type": "code",
   "execution_count": 2,
   "metadata": {},
   "outputs": [
    {
     "name": "stdout",
     "output_type": "stream",
     "text": [
      "M45_042718_OF\n",
      "M46_042718_OF\n",
      "CK_WT_RN3_OF\n",
      "081117 OF B6J M27-n1\n",
      "KO:0/5, WT:3/7\n"
     ]
    }
   ],
   "source": [
    "KO_count = {\"Sig\": 0, \"Total\": 0, \"P-values/Score\": []} # significance, \n",
    "WT_count = {\"Sig\": 0, \"Total\": 0, \"P-values/Score\": []}\n",
    "for data_dir in datalist:\n",
    "    data_name = str(data_dir).split('/')[-1]\n",
    "    with open(ParamDir().output_dir/data_name/\"tsc_shuffle_uniform_num_of_samples_Ridge_segment label shuffling_train_rocket.pickle\",\"rb\") as f:\n",
    "        shuffle_results = pickle.load(f)\n",
    "    with open(ParamDir().output_dir/data_name/\"tsc_train_rocket_Ridge_uniform_num_of_samples_False.pickle\",\"rb\") as f:\n",
    "        original_results = pickle.load(f)\n",
    "    p_values = np.quantile([res['scores'] for res in shuffle_results], 0.99)\n",
    "    score = original_results['scores']\n",
    "    r = score >= p_values\n",
    "    if \"KO\" in data_name:\n",
    "        KO_count[\"Total\"] += 1\n",
    "        KO_count[\"Sig\"] += r\n",
    "        KO_count[\"P-values/Score\"].append((p_values, score, data_name))\n",
    "        if r:\n",
    "            print(data_name)\n",
    "    else:\n",
    "        WT_count[\"Total\"] += 1\n",
    "        WT_count[\"Sig\"] += r\n",
    "        WT_count[\"P-values/Score\"].append((p_values, score, data_name))\n",
    "        if ~r:\n",
    "            print(data_name)\n",
    "print(f\"KO:{KO_count['Sig']}/{KO_count['Total']}, WT:{WT_count['Sig']}/{WT_count['Total']}\")"
   ]
  },
  {
   "cell_type": "code",
   "execution_count": 3,
   "metadata": {},
   "outputs": [
    {
     "data": {
      "text/plain": [
       "[(0.625, 0.5, 'M45_042718_OF'),\n",
       " (0.5625, 0.4375, 'M46_042718_OF'),\n",
       " (0.5, 0.4166666666666667, 'CK_WT_RN3_OF'),\n",
       " (0.5625, 0.5625, '092217 OF CaMKII WT M29-n1'),\n",
       " (0.5, 0.625, 'M44_042718_OF'),\n",
       " (0.625, 0.75, '092717 OF SERT WT M32-n1'),\n",
       " (0.5004999999999995, 0.5, '081117 OF B6J M27-n1')]"
      ]
     },
     "execution_count": 3,
     "metadata": {},
     "output_type": "execute_result"
    }
   ],
   "source": [
    "WT_count['P-values/Score']"
   ]
  },
  {
   "cell_type": "code",
   "execution_count": 4,
   "metadata": {},
   "outputs": [
    {
     "data": {
      "text/plain": [
       "[(0.625, 0.375, '091317 OF CaMKII HKO M19-n1'),\n",
       " (0.5, 0.2916666666666667, '092217 OF CaMKII HKO M30-n1'),\n",
       " (0.5833333333333334, 0.3333333333333333, '091317 OF CaMKII HKO M20-n1'),\n",
       " (0.4375, 0.25, 'CK_KO_RN1_OF'),\n",
       " (0.5625, 0.25, '090817 OF CaMKII HKO M22-n1')]"
      ]
     },
     "execution_count": 4,
     "metadata": {},
     "output_type": "execute_result"
    }
   ],
   "source": [
    "KO_count['P-values/Score']"
   ]
  },
  {
   "cell_type": "code",
   "execution_count": 5,
   "metadata": {},
   "outputs": [],
   "source": [
    "with open(ParamDir().output_dir/\"rocket_uniform_num_samples_Ridge_permutation_test_results.pickle\", \"wb\") as f:\n",
    "    pickle.dump({\"WT\": WT_count, \"KO\": KO_count}, f)"
   ]
  },
  {
   "attachments": {},
   "cell_type": "markdown",
   "metadata": {},
   "source": [
    "## SVM"
   ]
  },
  {
   "cell_type": "code",
   "execution_count": 6,
   "metadata": {},
   "outputs": [
    {
     "name": "stdout",
     "output_type": "stream",
     "text": [
      "M45_042718_OF\n",
      "M46_042718_OF\n",
      "081117 OF B6J M27-n1\n",
      "KO:0/5, WT:4/7\n"
     ]
    }
   ],
   "source": [
    "KO_count = {\"Sig\": 0, \"Total\": 0, \"P-values/Score\": []} # significance, \n",
    "WT_count = {\"Sig\": 0, \"Total\": 0, \"P-values/Score\": []}\n",
    "for data_dir in datalist:\n",
    "    data_name = str(data_dir).split('/')[-1]\n",
    "    with open(ParamDir().output_dir/data_name/\"tsc_shuffle_uniform_num_of_samples_SVM_segment label shuffling_train_rocket.pickle\",\"rb\") as f:\n",
    "        shuffle_results = pickle.load(f)\n",
    "    with open(ParamDir().output_dir/data_name/\"tsc_train_rocket_SVM_uniform_num_of_samples_False.pickle\",\"rb\") as f:\n",
    "        original_results = pickle.load(f)\n",
    "    p_values = np.quantile([res['scores'] for res in shuffle_results], 0.99)\n",
    "    score = original_results['scores']\n",
    "    r = score >= p_values\n",
    "    if \"KO\" in data_name:\n",
    "        KO_count[\"Total\"] += 1\n",
    "        KO_count[\"Sig\"] += r\n",
    "        KO_count[\"P-values/Score\"].append((p_values, score, data_name))\n",
    "        if r:\n",
    "            print(data_name)\n",
    "    else:\n",
    "        WT_count[\"Total\"] += 1\n",
    "        WT_count[\"Sig\"] += r\n",
    "        WT_count[\"P-values/Score\"].append((p_values, score, data_name))\n",
    "        if ~r:\n",
    "            print(data_name)\n",
    "print(f\"KO:{KO_count['Sig']}/{KO_count['Total']}, WT:{WT_count['Sig']}/{WT_count['Total']}\")"
   ]
  },
  {
   "cell_type": "code",
   "execution_count": 7,
   "metadata": {},
   "outputs": [
    {
     "data": {
      "text/plain": [
       "[(0.625, 0.5, 'M45_042718_OF'),\n",
       " (0.5625, 0.5, 'M46_042718_OF'),\n",
       " (0.4583333333333333, 0.4583333333333333, 'CK_WT_RN3_OF'),\n",
       " (0.5625, 0.5625, '092217 OF CaMKII WT M29-n1'),\n",
       " (0.5, 0.5416666666666666, 'M44_042718_OF'),\n",
       " (0.625, 0.875, '092717 OF SERT WT M32-n1'),\n",
       " (0.55, 0.3, '081117 OF B6J M27-n1')]"
      ]
     },
     "execution_count": 7,
     "metadata": {},
     "output_type": "execute_result"
    }
   ],
   "source": [
    "WT_count['P-values/Score']"
   ]
  },
  {
   "cell_type": "code",
   "execution_count": 8,
   "metadata": {},
   "outputs": [
    {
     "data": {
      "text/plain": [
       "[(0.625, 0.375, '091317 OF CaMKII HKO M19-n1'),\n",
       " (0.4587499999999996, 0.20833333333333334, '092217 OF CaMKII HKO M30-n1'),\n",
       " (0.5833333333333334, 0.5, '091317 OF CaMKII HKO M20-n1'),\n",
       " (0.4375, 0.21875, 'CK_KO_RN1_OF'),\n",
       " (0.5625, 0.3125, '090817 OF CaMKII HKO M22-n1')]"
      ]
     },
     "execution_count": 8,
     "metadata": {},
     "output_type": "execute_result"
    }
   ],
   "source": [
    "KO_count['P-values/Score']"
   ]
  },
  {
   "cell_type": "code",
   "execution_count": 9,
   "metadata": {},
   "outputs": [],
   "source": [
    "with open(ParamDir().output_dir/\"rocket_uniform_num_samples_SVM_permutation_test_results.pickle\", \"wb\") as f:\n",
    "    pickle.dump({\"WT\": WT_count, \"KO\": KO_count}, f)"
   ]
  }
 ],
 "metadata": {
  "kernelspec": {
   "display_name": "Python 3",
   "language": "python",
   "name": "python3"
  },
  "language_info": {
   "codemirror_mode": {
    "name": "ipython",
    "version": 3
   },
   "file_extension": ".py",
   "mimetype": "text/x-python",
   "name": "python",
   "nbconvert_exporter": "python",
   "pygments_lexer": "ipython3",
   "version": "3.8.5"
  },
  "orig_nbformat": 4
 },
 "nbformat": 4,
 "nbformat_minor": 2
}
