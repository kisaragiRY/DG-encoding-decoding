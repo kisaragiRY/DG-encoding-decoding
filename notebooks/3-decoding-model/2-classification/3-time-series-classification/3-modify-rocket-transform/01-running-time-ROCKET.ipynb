{
 "cells": [
  {
   "attachments": {},
   "cell_type": "markdown",
   "metadata": {},
   "source": [
    "# Check the running time of ROCKET"
   ]
  },
  {
   "cell_type": "code",
   "execution_count": 1,
   "metadata": {},
   "outputs": [],
   "source": [
    "from rocket._kernels import _generate_1d_kernels, _apply_1d_kernel, _generate_nd_kernels, _apply_nd_kernel, _apply_1d_kernels, _apply_nd_kernels\n",
    "from rocket import Rocket\n",
    "from dataloader.dataset import UniformSegmentDataset\n",
    "from param import *"
   ]
  },
  {
   "cell_type": "code",
   "execution_count": 2,
   "metadata": {},
   "outputs": [],
   "source": [
    "data_dir = ParamDir().data_path_list[0]\n",
    "dataset = UniformSegmentDataset(data_dir, ParamData().mobility, ParamData().shuffle)\n",
    "(X_train, y_train), (X_test, y_test) = dataset.load_all_data(ParamData().window_size, ParamData().train_ratio, ParamData().K)"
   ]
  },
  {
   "attachments": {},
   "cell_type": "markdown",
   "metadata": {},
   "source": [
    "## rocket.fit_transform"
   ]
  },
  {
   "cell_type": "code",
   "execution_count": 7,
   "metadata": {},
   "outputs": [
    {
     "name": "stdout",
     "output_type": "stream",
     "text": [
      "18.7 s ± 798 ms per loop (mean ± std. dev. of 7 runs, 1 loop each)\n"
     ]
    }
   ],
   "source": [
    "%%timeit\n",
    "rocket = Rocket(100, 2, 20230405)\n",
    "X_transformed = rocket.fit_transform(X_train)"
   ]
  },
  {
   "attachments": {},
   "cell_type": "markdown",
   "metadata": {},
   "source": [
    "## Optimization"
   ]
  },
  {
   "attachments": {},
   "cell_type": "markdown",
   "metadata": {},
   "source": [
    "### 1. _generate_nd_kernels"
   ]
  },
  {
   "cell_type": "code",
   "execution_count": 3,
   "metadata": {},
   "outputs": [
    {
     "name": "stdout",
     "output_type": "stream",
     "text": [
      "25.7 ms ± 248 µs per loop (mean ± std. dev. of 7 runs, 10 loops each)\n"
     ]
    }
   ],
   "source": [
    "%%timeit\n",
    "# before njit\n",
    "kernels = _generate_nd_kernels(50, 16, 100, 2, 20230404)"
   ]
  },
  {
   "attachments": {},
   "cell_type": "markdown",
   "metadata": {},
   "source": [
    "#### 1.1 numba safe way of combinations"
   ]
  },
  {
   "cell_type": "code",
   "execution_count": 3,
   "metadata": {},
   "outputs": [],
   "source": [
    "from util import get_random_comb"
   ]
  },
  {
   "cell_type": "code",
   "execution_count": 5,
   "metadata": {},
   "outputs": [
    {
     "name": "stdout",
     "output_type": "stream",
     "text": [
      "9.67 µs ± 657 ns per loop (mean ± std. dev. of 7 runs, 100,000 loops each)\n"
     ]
    }
   ],
   "source": [
    "%%timeit\n",
    "# with njit\n",
    "get_random_comb(np.arange(0, 50),3, 3, 2)"
   ]
  },
  {
   "attachments": {},
   "cell_type": "markdown",
   "metadata": {},
   "source": [
    "#### 1.2 results with njit"
   ]
  },
  {
   "cell_type": "code",
   "execution_count": 3,
   "metadata": {},
   "outputs": [
    {
     "name": "stdout",
     "output_type": "stream",
     "text": [
      "1.34 ms ± 583 µs per loop (mean ± std. dev. of 7 runs, 1 loop each)\n"
     ]
    }
   ],
   "source": [
    "%%timeit\n",
    "# with njit\n",
    "kernels = _generate_nd_kernels(50, 16, 100, 2, 20230404)"
   ]
  },
  {
   "attachments": {},
   "cell_type": "markdown",
   "metadata": {},
   "source": [
    "### 2. _apply_nd_kernel"
   ]
  },
  {
   "cell_type": "code",
   "execution_count": 3,
   "metadata": {},
   "outputs": [
    {
     "name": "stdout",
     "output_type": "stream",
     "text": [
      "2.58 ms ± 715 µs per loop (mean ± std. dev. of 7 runs, 1 loop each)\n"
     ]
    }
   ],
   "source": [
    "%%timeit\n",
    "kernels = _generate_nd_kernels(50, 16, 100, 2, 20230404)\n",
    "kernel_dim = 2\n",
    "(\n",
    "    weights,\n",
    "    length_list,\n",
    "    biases,\n",
    "    dilations,\n",
    "    paddings,\n",
    "    num_combinations_list,\n",
    "    combinations_indices,\n",
    ") = kernels\n",
    "\n",
    "s_w, s_f, s_out_f = 0, 0, 0\n",
    "j = 0\n",
    "e_w = s_w + num_combinations_list[j] * length_list[j] * kernel_dim # end index of weights\n",
    "e_f = s_f + num_combinations_list[j] # end index of features to use\n",
    "_weights = weights[s_w:e_w].reshape((num_combinations_list[j], length_list[j], kernel_dim))\n",
    "kernel = (\n",
    "            _weights,\n",
    "            length_list[j],\n",
    "            biases[j],\n",
    "            dilations[j],\n",
    "            paddings[j],\n",
    "            num_combinations_list[j],\n",
    "            combinations_indices[s_f:e_f]\n",
    "            )\n",
    "\n",
    "features = _apply_nd_kernel(X_train[0], kernel, kernel_dim)"
   ]
  },
  {
   "attachments": {},
   "cell_type": "markdown",
   "metadata": {},
   "source": [
    "#### 2.1 results after njit"
   ]
  },
  {
   "cell_type": "code",
   "execution_count": 3,
   "metadata": {},
   "outputs": [
    {
     "name": "stdout",
     "output_type": "stream",
     "text": [
      "1.36 ms ± 670 µs per loop (mean ± std. dev. of 7 runs, 1 loop each)\n"
     ]
    }
   ],
   "source": [
    "%%timeit\n",
    "\n",
    "kernels = _generate_nd_kernels(50, 16, 100, 2, 20230404)\n",
    "kernel_dim = 2\n",
    "(\n",
    "    weights,\n",
    "    length_list,\n",
    "    biases,\n",
    "    dilations,\n",
    "    paddings,\n",
    "    num_combinations_list,\n",
    "    combinations_indices,\n",
    ") = kernels\n",
    "\n",
    "s_w, s_f, s_out_f = 0, 0, 0\n",
    "j = 0\n",
    "e_w = s_w + num_combinations_list[j] * length_list[j] * kernel_dim # end index of weights\n",
    "e_f = s_f + num_combinations_list[j] # end index of features to use\n",
    "_weights = weights[s_w:e_w].reshape((num_combinations_list[j], length_list[j], kernel_dim))\n",
    "kernel = (\n",
    "            _weights,\n",
    "            length_list[j],\n",
    "            biases[j],\n",
    "            dilations[j],\n",
    "            paddings[j],\n",
    "            num_combinations_list[j],\n",
    "            combinations_indices[s_f:e_f]\n",
    "            )\n",
    "_apply_nd_kernel(X_train[0], kernel, kernel_dim)"
   ]
  },
  {
   "attachments": {},
   "cell_type": "markdown",
   "metadata": {},
   "source": [
    "### 3. _generate_1d_kernels"
   ]
  },
  {
   "cell_type": "code",
   "execution_count": 10,
   "metadata": {},
   "outputs": [
    {
     "name": "stdout",
     "output_type": "stream",
     "text": [
      "19.9 ms ± 377 µs per loop (mean ± std. dev. of 7 runs, 10 loops each)\n"
     ]
    }
   ],
   "source": [
    "%%timeit\n",
    "# before njit\n",
    "kernels = _generate_1d_kernels(50, 16, 100, 2)"
   ]
  },
  {
   "attachments": {},
   "cell_type": "markdown",
   "metadata": {},
   "source": [
    "#### 3.1 results after njit"
   ]
  },
  {
   "cell_type": "code",
   "execution_count": 3,
   "metadata": {},
   "outputs": [
    {
     "name": "stdout",
     "output_type": "stream",
     "text": [
      "653 µs ± 429 µs per loop (mean ± std. dev. of 7 runs, 1 loop each)\n"
     ]
    }
   ],
   "source": [
    "%%timeit\n",
    "# before njit\n",
    "kernels = _generate_1d_kernels(50, 16, 100, 2)"
   ]
  },
  {
   "attachments": {},
   "cell_type": "markdown",
   "metadata": {},
   "source": [
    "### 4. _apply_1d_kernel"
   ]
  },
  {
   "cell_type": "code",
   "execution_count": 4,
   "metadata": {},
   "outputs": [
    {
     "name": "stdout",
     "output_type": "stream",
     "text": [
      "1.39 ms ± 293 µs per loop (mean ± std. dev. of 7 runs, 100 loops each)\n"
     ]
    }
   ],
   "source": [
    "%%timeit\n",
    "kernels = _generate_1d_kernels(50, 16, 100, 2)\n",
    "\n",
    "(\n",
    "    weights,\n",
    "    length_list,\n",
    "    biases,\n",
    "    dilations,\n",
    "    paddings,\n",
    "    num_features_list,\n",
    "    features_indices,\n",
    ") = kernels\n",
    "\n",
    "s_w, s_f, s_out_f = 0, 0, 0\n",
    "j = 0\n",
    "e_w = s_w + num_features_list[j] * length_list[j]  # end index of weights\n",
    "e_f = s_f + num_features_list[j] # end index of features to use\n",
    "_weights = weights[s_w:e_w].reshape((num_features_list[j], length_list[j]))\n",
    "kernel = (\n",
    "            _weights,\n",
    "            length_list[j],\n",
    "            biases[j],\n",
    "            dilations[j],\n",
    "            paddings[j],\n",
    "            num_features_list[j],\n",
    "            features_indices[s_f:e_f]\n",
    "            )\n",
    "\n",
    "features = _apply_1d_kernel(X_train[0], kernel)"
   ]
  },
  {
   "attachments": {},
   "cell_type": "markdown",
   "metadata": {},
   "source": [
    "#### 4.1 results after njit"
   ]
  },
  {
   "cell_type": "code",
   "execution_count": 5,
   "metadata": {},
   "outputs": [
    {
     "name": "stdout",
     "output_type": "stream",
     "text": [
      "466 µs ± 4.4 µs per loop (mean ± std. dev. of 7 runs, 1,000 loops each)\n"
     ]
    }
   ],
   "source": [
    "%%timeit\n",
    "kernels = _generate_1d_kernels(50, 16, 100, 2)\n",
    "\n",
    "(\n",
    "    weights,\n",
    "    length_list,\n",
    "    biases,\n",
    "    dilations,\n",
    "    paddings,\n",
    "    num_features_list,\n",
    "    features_indices,\n",
    ") = kernels\n",
    "\n",
    "s_w, s_f, s_out_f = 0, 0, 0\n",
    "j = 0\n",
    "e_w = s_w + num_features_list[j] * length_list[j]  # end index of weights\n",
    "e_f = s_f + num_features_list[j] # end index of features to use\n",
    "_weights = weights[s_w:e_w].reshape((num_features_list[j], length_list[j]))\n",
    "kernel = (\n",
    "            _weights,\n",
    "            length_list[j],\n",
    "            biases[j],\n",
    "            dilations[j],\n",
    "            paddings[j],\n",
    "            num_features_list[j],\n",
    "            features_indices[s_f:e_f]\n",
    "            )\n",
    "\n",
    "features = _apply_1d_kernel(X_train[0], kernel)"
   ]
  },
  {
   "attachments": {},
   "cell_type": "markdown",
   "metadata": {},
   "source": [
    "### 5. _apply_1d_kernels"
   ]
  },
  {
   "cell_type": "code",
   "execution_count": 5,
   "metadata": {},
   "outputs": [
    {
     "name": "stdout",
     "output_type": "stream",
     "text": [
      "144 ms ± 6.57 ms per loop (mean ± std. dev. of 7 runs, 10 loops each)\n"
     ]
    }
   ],
   "source": [
    "%%timeit\n",
    "# for 1d kernels\n",
    "kernels = _generate_1d_kernels(50, 16, 100, 2)\n",
    "\n",
    "_apply_1d_kernels(X_train, kernels)"
   ]
  },
  {
   "attachments": {},
   "cell_type": "markdown",
   "metadata": {},
   "source": [
    "#### 5.1 results after njit"
   ]
  },
  {
   "cell_type": "code",
   "execution_count": 3,
   "metadata": {},
   "outputs": [
    {
     "name": "stdout",
     "output_type": "stream",
     "text": [
      "21.8 ms ± 475 µs per loop (mean ± std. dev. of 7 runs, 1 loop each)\n"
     ]
    }
   ],
   "source": [
    "%%timeit\n",
    "# for 1d kernels\n",
    "kernels = _generate_1d_kernels(50, 16, 100, 2)\n",
    "\n",
    "_apply_1d_kernels(X_train, kernels)"
   ]
  },
  {
   "attachments": {},
   "cell_type": "markdown",
   "metadata": {},
   "source": [
    "#### 5.2 results after parallel"
   ]
  },
  {
   "cell_type": "code",
   "execution_count": 6,
   "metadata": {},
   "outputs": [
    {
     "name": "stdout",
     "output_type": "stream",
     "text": [
      "3.42 ms ± 421 µs per loop (mean ± std. dev. of 7 runs, 100 loops each)\n"
     ]
    }
   ],
   "source": [
    "%%timeit\n",
    "# for 1d kernels\n",
    "nb.set_num_threads(30)\n",
    "kernels = _generate_1d_kernels(50, 16, 100, 2)\n",
    "_apply_1d_kernels(X_train, kernels)"
   ]
  },
  {
   "attachments": {},
   "cell_type": "markdown",
   "metadata": {},
   "source": [
    "### 6. _apply_nd_kernels"
   ]
  },
  {
   "cell_type": "code",
   "execution_count": 3,
   "metadata": {},
   "outputs": [
    {
     "name": "stdout",
     "output_type": "stream",
     "text": [
      "207 ms ± 2.6 ms per loop (mean ± std. dev. of 7 runs, 1 loop each)\n"
     ]
    }
   ],
   "source": [
    "%%timeit\n",
    "kernels = _generate_nd_kernels(50, 16, 100, 2, 20230405)\n",
    "kernel_dim = 2\n",
    "_apply_nd_kernels(X_train, kernels, kernel_dim)"
   ]
  },
  {
   "attachments": {},
   "cell_type": "markdown",
   "metadata": {},
   "source": [
    "#### 6.1 results after njit"
   ]
  },
  {
   "cell_type": "code",
   "execution_count": 4,
   "metadata": {},
   "outputs": [
    {
     "name": "stdout",
     "output_type": "stream",
     "text": [
      "37.7 ms ± 107 µs per loop (mean ± std. dev. of 7 runs, 10 loops each)\n"
     ]
    }
   ],
   "source": [
    "%%timeit\n",
    "kernels = _generate_nd_kernels(50, 16, 100, 2, 20230405)\n",
    "kernel_dim = 2\n",
    "_apply_nd_kernels(X_train, kernels, kernel_dim)"
   ]
  },
  {
   "attachments": {},
   "cell_type": "markdown",
   "metadata": {},
   "source": [
    "#### 6.2 results after paral"
   ]
  },
  {
   "cell_type": "code",
   "execution_count": 3,
   "metadata": {},
   "outputs": [
    {
     "name": "stdout",
     "output_type": "stream",
     "text": [
      "7 ms ± 2.67 ms per loop (mean ± std. dev. of 7 runs, 1 loop each)\n"
     ]
    }
   ],
   "source": [
    "%%timeit\n",
    "# for 1d kernels\n",
    "nb.set_num_threads(30)\n",
    "kernels = _generate_nd_kernels(50, 16, 100, 2, 20230405)\n",
    "kernel_dim = 2\n",
    "_apply_nd_kernels(X_train, kernels, kernel_dim)"
   ]
  },
  {
   "attachments": {},
   "cell_type": "markdown",
   "metadata": {},
   "source": [
    "## Results after optimization"
   ]
  },
  {
   "cell_type": "code",
   "execution_count": 3,
   "metadata": {},
   "outputs": [
    {
     "name": "stdout",
     "output_type": "stream",
     "text": [
      "5.17 ms ± 1.73 ms per loop (mean ± std. dev. of 7 runs, 1 loop each)\n"
     ]
    }
   ],
   "source": [
    "%%timeit\n",
    "rocket = Rocket(100, 2, 20230405, 30)\n",
    "X_transformed = rocket.fit_transform(X_train)"
   ]
  }
 ],
 "metadata": {
  "kernelspec": {
   "display_name": "Python 3",
   "language": "python",
   "name": "python3"
  },
  "language_info": {
   "codemirror_mode": {
    "name": "ipython",
    "version": 3
   },
   "file_extension": ".py",
   "mimetype": "text/x-python",
   "name": "python",
   "nbconvert_exporter": "python",
   "pygments_lexer": "ipython3",
   "version": "3.8.5"
  },
  "orig_nbformat": 4,
  "vscode": {
   "interpreter": {
    "hash": "aee8b7b246df8f9039afb4144a1f6fd8d2ca17a180786b69acc140d282b71a49"
   }
  }
 },
 "nbformat": 4,
 "nbformat_minor": 2
}
