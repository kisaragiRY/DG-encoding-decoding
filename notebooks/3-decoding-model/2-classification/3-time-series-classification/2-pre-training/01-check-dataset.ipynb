{
 "cells": [
  {
   "attachments": {},
   "cell_type": "markdown",
   "metadata": {},
   "source": [
    "# Check dataset importing"
   ]
  },
  {
   "cell_type": "code",
   "execution_count": 1,
   "metadata": {},
   "outputs": [],
   "source": [
    "import seaborn as sns\n",
    "\n",
    "from dataloader.dataset import UniformSegmentDataset\n",
    "from param import *\n",
    "\n",
    "sns.set_theme(style=\"whitegrid\")\n",
    "output_dir = ParamDir().output_dir\n",
    "datalist = ParamDir().data_path_list"
   ]
  },
  {
   "attachments": {},
   "cell_type": "markdown",
   "metadata": {},
   "source": [
    "## Reproducibility"
   ]
  },
  {
   "cell_type": "code",
   "execution_count": 2,
   "metadata": {},
   "outputs": [
    {
     "data": {
      "text/plain": [
       "True"
      ]
     },
     "execution_count": 2,
     "metadata": {},
     "output_type": "execute_result"
    }
   ],
   "source": [
    "data_dir = datalist[2]\n",
    "dataset1 = UniformSegmentDataset(data_dir, 1.0, False, 2023)\n",
    "X_train1, y_train1 = dataset1.load_all_data(8, 16, None)\n",
    "\n",
    "dataset2 = UniformSegmentDataset(data_dir, 1.0, False, 2023)\n",
    "X_train2, y_train2 = dataset2.load_all_data(8, 16, None)\n",
    "\n",
    "(X_train1 == X_train2).all()"
   ]
  }
 ],
 "metadata": {
  "kernelspec": {
   "display_name": "Python 3",
   "language": "python",
   "name": "python3"
  },
  "language_info": {
   "codemirror_mode": {
    "name": "ipython",
    "version": 3
   },
   "file_extension": ".py",
   "mimetype": "text/x-python",
   "name": "python",
   "nbconvert_exporter": "python",
   "pygments_lexer": "ipython3",
   "version": "3.8.5"
  },
  "orig_nbformat": 4
 },
 "nbformat": 4,
 "nbformat_minor": 2
}
