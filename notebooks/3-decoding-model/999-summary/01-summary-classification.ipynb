{
 "cells": [
  {
   "attachments": {},
   "cell_type": "markdown",
   "metadata": {},
   "source": [
    "# Summary of classification models\n",
    "1. softmax\n",
    "2. support vector machine\n",
    "3. Kneighbors time series classifier\n",
    "3. rocket time series classification"
   ]
  },
  {
   "cell_type": "code",
   "execution_count": 1,
   "metadata": {},
   "outputs": [],
   "source": [
    "import pickle\n",
    "from pathlib import Path\n",
    "import matplotlib.pyplot as plt\n",
    "import seaborn as sns\n",
    "import pandas as pd\n",
    "import numpy as np\n",
    "from sklearn.metrics import confusion_matrix\n",
    "\n",
    "sns.set_theme(style=\"whitegrid\")\n",
    "output_dir = Path(\"/work/data/interim\")\n",
    "DATA_ROOT = Path('/work/data/alldata/')\n",
    "datalist = np.array([x for x in DATA_ROOT.iterdir()])"
   ]
  },
  {
   "cell_type": "code",
   "execution_count": 3,
   "metadata": {},
   "outputs": [
    {
     "data": {
      "text/plain": [
       "<AxesSubplot:xlabel='mouse type', ylabel='accuracy'>"
      ]
     },
     "execution_count": 3,
     "metadata": {},
     "output_type": "execute_result"
    },
    {
     "data": {
      "image/png": "[encoded data removed]",
      "text/plain": [
       "<Figure size 600x400 with 1 Axes>"
      ]
     },
     "metadata": {},
     "output_type": "display_data"
    }
   ],
   "source": [
    "files_path = [\n",
    "    (\"softmax_regression\", \"softmax\", \"sm_train_without_normalization.pickle\"),\n",
    "    (\"support-vector-machine\", \"svm\",\"svm_sigmoid_kernel.pickle\"),\n",
    "    # (\"time_series_classification\", \"k_neighbors\",\"tsc_train_kneighbors.pickle\"),\n",
    "    (\"time_series_classification\", \"rocket\",\"tsc_train_rocket_balanced.pickle\")\n",
    "]\n",
    "\n",
    "fig, ax = plt.subplots(figsize=(6, 4), tight_layout = True, sharey=True)\n",
    "\n",
    "out = []\n",
    "for m_id, data_dir in enumerate(datalist):\n",
    "    data_name = str(data_dir).split('/')[-1]\n",
    "    for dir, method, file_path in files_path:\n",
    "        with open(output_dir/dir/data_name/file_path,\"rb\") as f:\n",
    "            results = pickle.load(f)\n",
    "        accu = np.sum((results[\"y_test\"]==results[\"y_pred\"]))/len(results[\"y_pred\"])\n",
    "        if \"KO\" in data_name:\n",
    "            out.append([accu, \"KO\", method])\n",
    "        else:\n",
    "            out.append([accu, \"WT\", method])\n",
    "\n",
    "out = pd.DataFrame(out, columns=[\"accuracy\", \"mouse type\", \"models\"])\n",
    "\n",
    "sns.boxplot(y=\"accuracy\", x=\"mouse type\", hue=\"models\", data=out, ax=ax)\n",
    "\n",
    "# mobility = results[\"mobility\"] # Inverse of mobilityularization strength\n",
    "# ax.set_title(f\"{mobility:.2f} cm/s\")\n",
    "# plt.suptitle(\"the effect of regularization strength\")\n"
   ]
  },
  {
   "attachments": {},
   "cell_type": "markdown",
   "metadata": {},
   "source": [
    "## Accuracy Median"
   ]
  },
  {
   "cell_type": "code",
   "execution_count": 4,
   "metadata": {},
   "outputs": [
    {
     "data": {
      "text/html": [
       "<div>\n",
       "<style scoped>\n",
       "    .dataframe tbody tr th:only-of-type {\n",
       "        vertical-align: middle;\n",
       "    }\n",
       "\n",
       "    .dataframe tbody tr th {\n",
       "        vertical-align: top;\n",
       "    }\n",
       "\n",
       "    .dataframe thead th {\n",
       "        text-align: right;\n",
       "    }\n",
       "</style>\n",
       "<table border=\"1\" class=\"dataframe\">\n",
       "  <thead>\n",
       "    <tr style=\"text-align: right;\">\n",
       "      <th></th>\n",
       "      <th></th>\n",
       "      <th>accuracy</th>\n",
       "    </tr>\n",
       "    <tr>\n",
       "      <th>models</th>\n",
       "      <th>mouse type</th>\n",
       "      <th></th>\n",
       "    </tr>\n",
       "  </thead>\n",
       "  <tbody>\n",
       "    <tr>\n",
       "      <th rowspan=\"2\" valign=\"top\">rocket</th>\n",
       "      <th>KO</th>\n",
       "      <td>0.300000</td>\n",
       "    </tr>\n",
       "    <tr>\n",
       "      <th>WT</th>\n",
       "      <td>0.350000</td>\n",
       "    </tr>\n",
       "    <tr>\n",
       "      <th rowspan=\"2\" valign=\"top\">softmax</th>\n",
       "      <th>KO</th>\n",
       "      <td>0.271667</td>\n",
       "    </tr>\n",
       "    <tr>\n",
       "      <th>WT</th>\n",
       "      <td>0.353070</td>\n",
       "    </tr>\n",
       "    <tr>\n",
       "      <th rowspan=\"2\" valign=\"top\">svm</th>\n",
       "      <th>KO</th>\n",
       "      <td>0.259868</td>\n",
       "    </tr>\n",
       "    <tr>\n",
       "      <th>WT</th>\n",
       "      <td>0.351562</td>\n",
       "    </tr>\n",
       "  </tbody>\n",
       "</table>\n",
       "</div>"
      ],
      "text/plain": [
       "                    accuracy\n",
       "models  mouse type          \n",
       "rocket  KO          0.300000\n",
       "        WT          0.350000\n",
       "softmax KO          0.271667\n",
       "        WT          0.353070\n",
       "svm     KO          0.259868\n",
       "        WT          0.351562"
      ]
     },
     "execution_count": 4,
     "metadata": {},
     "output_type": "execute_result"
    }
   ],
   "source": [
    "out.groupby([\"models\",\"mouse type\"]).median()"
   ]
  }
 ],
 "metadata": {
  "kernelspec": {
   "display_name": "Python 3",
   "language": "python",
   "name": "python3"
  },
  "language_info": {
   "codemirror_mode": {
    "name": "ipython",
    "version": 3
   },
   "file_extension": ".py",
   "mimetype": "text/x-python",
   "name": "python",
   "nbconvert_exporter": "python",
   "pygments_lexer": "ipython3",
   "version": "3.8.5"
  },
  "orig_nbformat": 4,
  "vscode": {
   "interpreter": {
    "hash": "aee8b7b246df8f9039afb4144a1f6fd8d2ca17a180786b69acc140d282b71a49"
   }
  }
 },
 "nbformat": 4,
 "nbformat_minor": 2
}
