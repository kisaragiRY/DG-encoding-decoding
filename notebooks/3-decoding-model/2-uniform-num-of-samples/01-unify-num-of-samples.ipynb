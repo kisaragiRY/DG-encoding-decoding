{
 "cells": [
  {
   "attachments": {},
   "cell_type": "markdown",
   "metadata": {},
   "source": [
    "# Unify the number of samples across all mice"
   ]
  },
  {
   "cell_type": "code",
   "execution_count": 2,
   "metadata": {},
   "outputs": [],
   "source": [
    "from typing import Tuple\n",
    "\n",
    "import seaborn as sns\n",
    "import matplotlib.pyplot as plt\n",
    "\n",
    "from param import *\n",
    "from modules.dataloader import UniformSegmentDataset\n",
    "from modules.utils.util import segment\n",
    "\n",
    "data_list = ParamDir().data_list"
   ]
  },
  {
   "attachments": {},
   "cell_type": "markdown",
   "metadata": {},
   "source": [
    "## Find the mouse with the least samples"
   ]
  },
  {
   "cell_type": "code",
   "execution_count": 2,
   "metadata": {},
   "outputs": [],
   "source": [
    "data_amout_all = []\n",
    "for i, data_dir in enumerate(data_list):\n",
    "    segment_len = []\n",
    "    data_name = str(data_dir).split('/')[-1]\n",
    "    dataset = UniformSegmentDataset(data_dir, ParamData().mobility, ParamData().shuffle, ParamData().random_state)\n",
    "    (X_train, y_train), (X_test, y_test) = dataset.load_all_data(ParamData().window_size, ParamData().K, ParamData().train_ratio)\n",
    "\n",
    "    data_amout_all.append([len(X_train), data_name])\n",
    "    "
   ]
  },
  {
   "cell_type": "code",
   "execution_count": 3,
   "metadata": {},
   "outputs": [
    {
     "data": {
      "text/plain": [
       "[[124, '091317 OF CaMKII HKO M19-n1'],\n",
       " [108, '092217 OF CaMKII HKO M30-n1'],\n",
       " [56, 'M45_042718_OF'],\n",
       " [92, '091317 OF CaMKII HKO M20-n1'],\n",
       " [96, 'M46_042718_OF'],\n",
       " [100, 'CK_KO_RN1_OF'],\n",
       " [104, 'CK_WT_RN3_OF'],\n",
       " [84, '090817 OF CaMKII HKO M22-n1'],\n",
       " [88, '092217 OF CaMKII WT M29-n1'],\n",
       " [108, 'M44_042718_OF'],\n",
       " [84, '092717 OF SERT WT M32-n1'],\n",
       " [100, '081117 OF B6J M27-n1']]"
      ]
     },
     "execution_count": 3,
     "metadata": {},
     "output_type": "execute_result"
    }
   ],
   "source": [
    "data_amout_all"
   ]
  },
  {
   "cell_type": "code",
   "execution_count": 4,
   "metadata": {},
   "outputs": [],
   "source": [
    "base_mouse_name = 'M45_042718_OF'\n",
    "data_dir = ParamDir().DATA_ROOT / base_mouse_name\n",
    "base_dataset = UniformSegmentDataset(data_dir, ParamData().mobility, ParamData().shuffle, ParamData().random_state)\n",
    "(base_X_train, base_y_train), (_, base_y_test) = base_dataset.load_all_data(ParamData().window_size, ParamData().K, ParamData().train_ratio)\n"
   ]
  },
  {
   "cell_type": "code",
   "execution_count": 5,
   "metadata": {},
   "outputs": [
    {
     "name": "stdout",
     "output_type": "stream",
     "text": [
      "y_train: (array(['1', '2', '3', '4'], dtype='<U1'), array([14, 14, 14, 14]))\n",
      "y_test: (array(['1', '2', '3', '4'], dtype='<U1'), array([2, 2, 2, 2]))\n"
     ]
    }
   ],
   "source": [
    "print(f\"y_train: {np.unique(base_y_train, return_counts=True)}\")\n",
    "print(f\"y_test: {np.unique(base_y_test, return_counts=True)}\")"
   ]
  },
  {
   "attachments": {},
   "cell_type": "markdown",
   "metadata": {},
   "source": [
    "## downsample other mice\n",
    "only downsample the training set"
   ]
  },
  {
   "cell_type": "code",
   "execution_count": 8,
   "metadata": {},
   "outputs": [
    {
     "name": "stdout",
     "output_type": "stream",
     "text": [
      "y_train before: (array(['1', '2', '3', '4'], dtype='<U1'), array([27, 27, 27, 27]))\n",
      "y_train after: (array(['1', '2', '3', '4'], dtype='<U1'), array([14, 14, 14, 14]))\n"
     ]
    }
   ],
   "source": [
    "from sklearn.utils import resample\n",
    "\n",
    "data_dir = data_list[1]\n",
    "base_dataset = UniformSegmentDataset(data_dir, ParamData().mobility, ParamData().shuffle, ParamData().random_state)\n",
    "(X_train, y_train), (_, y_test) = base_dataset.load_all_data(ParamData().window_size, ParamData().K, ParamData().train_ratio)\n",
    "\n",
    "print(f\"y_train before: {np.unique(y_train, return_counts=True)}\")\n",
    "\n",
    "X, y = X_train, y_train\n",
    "classes = np.unique(y_train)\n",
    "\n",
    "X_new = []\n",
    "y_new = []\n",
    "\n",
    "for c in classes:\n",
    "    X_tmp, y_tmp = resample(X[y==c], y[y==c], n_samples=14)\n",
    "    X_new.append(X_tmp)\n",
    "    y_new.append(y_tmp)\n",
    "\n",
    "print(f\"y_train after: {np.unique(y_new, return_counts=True)}\")\n"
   ]
  }
 ],
 "metadata": {
  "kernelspec": {
   "display_name": "Python 3",
   "language": "python",
   "name": "python3"
  },
  "language_info": {
   "codemirror_mode": {
    "name": "ipython",
    "version": 3
   },
   "file_extension": ".py",
   "mimetype": "text/x-python",
   "name": "python",
   "nbconvert_exporter": "python",
   "pygments_lexer": "ipython3",
   "version": "3.10.13"
  },
  "orig_nbformat": 4
 },
 "nbformat": 4,
 "nbformat_minor": 2
}
