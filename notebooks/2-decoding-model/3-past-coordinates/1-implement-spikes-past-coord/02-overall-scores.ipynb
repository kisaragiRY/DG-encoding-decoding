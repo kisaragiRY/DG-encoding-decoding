{
 "cells": [
  {
   "cell_type": "markdown",
   "metadata": {},
   "source": [
    "# Summary of decoding scores"
   ]
  },
  {
   "cell_type": "code",
   "execution_count": 1,
   "metadata": {},
   "outputs": [],
   "source": [
    "import pickle\n",
    "import os\n",
    "import matplotlib.pyplot as plt\n",
    "\n",
    "os.chdir(\"/work\")\n",
    "from param import *\n",
    "\n",
    "output_dir = ParamDir().OUTPUT_DIR\n",
    "datalist = ParamDir().data_path_list\n"
   ]
  },
  {
   "cell_type": "code",
   "execution_count": 22,
   "metadata": {},
   "outputs": [
    {
     "data": {
      "text/plain": [
       "Text(0, 0.5, 'MSE(cm2)')"
      ]
     },
     "execution_count": 22,
     "metadata": {},
     "output_type": "execute_result"
    },
    {
     "data": {
      "image/png": "[encoded data removed]",
      "text/plain": [
       "<Figure size 600x300 with 1 Axes>"
      ]
     },
     "metadata": {},
     "output_type": "display_data"
    }
   ],
   "source": [
    "\n",
    "ko_mse_list = []\n",
    "wt_mse_list = []\n",
    "for data_dir in datalist:\n",
    "    data_name = str(data_dir).split('/')[-1]\n",
    "    mouse_type = \"knockout\" if \"CaMKII\" in data_name else \"wild-type\"\n",
    "    if mouse_type == \"knockout\":\n",
    "        with open(output_dir/(f\"rr_spikes_past_coord_eval_{data_name}.pickle\"),\"rb\") as f:\n",
    "            eval_results_all = pickle.load(f)\n",
    "        test_mse = [result[\"eval_test_scores\"] for result in eval_results_all if (result[\"coord_axis\"] == \"x-axis\") and (result[\"nthist\"] == 1)][0]\n",
    "        ko_mse_list .append(test_mse/25)\n",
    "    if mouse_type == \"wild-type\":\n",
    "        with open(output_dir/(f\"rr_spikes_past_coord_eval_{data_name}.pickle\"),\"rb\") as f:\n",
    "            eval_results_all = pickle.load(f)\n",
    "        test_mse = [result[\"eval_test_scores\"] for result in eval_results_all if (result[\"coord_axis\"] == \"x-axis\") and (result[\"nthist\"] == 1)][0]\n",
    "        wt_mse_list .append(test_mse/25)\n",
    "\n",
    "fig, ax = plt.subplots(figsize=(6,3), tight_layout = True)\n",
    "ax.boxplot([wt_mse_list, ko_mse_list])\n",
    "ax.set_xticklabels(['wild-type', 'knockout'])\n",
    "ax.set_ylabel(\"MSE(cm2)\")"
   ]
  }
 ],
 "metadata": {
  "kernelspec": {
   "display_name": "Python 3.8.5 64-bit",
   "language": "python",
   "name": "python3"
  },
  "language_info": {
   "codemirror_mode": {
    "name": "ipython",
    "version": 3
   },
   "file_extension": ".py",
   "mimetype": "text/x-python",
   "name": "python",
   "nbconvert_exporter": "python",
   "pygments_lexer": "ipython3",
   "version": "3.8.5"
  },
  "orig_nbformat": 4,
  "vscode": {
   "interpreter": {
    "hash": "aee8b7b246df8f9039afb4144a1f6fd8d2ca17a180786b69acc140d282b71a49"
   }
  }
 },
 "nbformat": 4,
 "nbformat_minor": 2
}
