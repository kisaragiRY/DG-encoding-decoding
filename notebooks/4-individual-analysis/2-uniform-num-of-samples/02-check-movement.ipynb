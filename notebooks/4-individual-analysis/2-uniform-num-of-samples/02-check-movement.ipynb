{
 "cells": [
  {
   "cell_type": "code",
   "execution_count": 1,
   "metadata": {},
   "outputs": [],
   "source": [
    "from typing import Tuple\n",
    "\n",
    "import seaborn as sns\n",
    "import matplotlib.pyplot as plt\n",
    "\n",
    "from param import *\n",
    "from dataloader import UniformSegmentDataset, BaseDataset\n",
    "from util import segment\n",
    "\n",
    "data_list = ParamDir().data_list"
   ]
  },
  {
   "cell_type": "code",
   "execution_count": 2,
   "metadata": {},
   "outputs": [
    {
     "data": {
      "text/plain": [
       "Text(0.5, 0.98, 'median time (sec) of staying in one position')"
      ]
     },
     "execution_count": 2,
     "metadata": {},
     "output_type": "execute_result"
    },
    {
     "data": {
      "image/png": "[encoded data removed]",
      "text/plain": [
       "<Figure size 800x400 with 2 Axes>"
      ]
     },
     "metadata": {},
     "output_type": "display_data"
    }
   ],
   "source": [
    "fig, axes = plt.subplots(figsize=(8,4), ncols=2, sharey=True, tight_layout=True)\n",
    "\n",
    "KO_data_list = [data_dir for data_dir in ParamDir().data_list if \"KO\" in  str(data_dir).split('/')[-1]]\n",
    "\n",
    "segment_len_all = []\n",
    "for i, data_dir in enumerate(KO_data_list):\n",
    "    segment_len = []\n",
    "    data_name = str(data_dir).split('/')[-1]\n",
    "    dataset = UniformSegmentDataset(data_dir, ParamData().mobility, ParamData().shuffle, ParamData().random_state)\n",
    "    (X_train, y_train), (X_test, y_test) = dataset.load_all_data(ParamData().window_size, ParamData().K, ParamData().train_ratio)\n",
    "\n",
    "    segment_ind = segment(dataset.y_train_base)\n",
    "    segment_len.append(round((segment_ind[0]+1)/3, 2))\n",
    "    for i in range(1, len(segment_ind)):\n",
    "        segment_len.append(round((segment_ind[i]-segment_ind[i-1])/3, 2))\n",
    "    segment_len_all.append([segment_len, data_name])\n",
    "    \n",
    "\n",
    "pass_res_KO = []\n",
    "not_pass_res_KO = []\n",
    "for item in segment_len_all:\n",
    "    if item[1] in []:\n",
    "        pass_res_KO.append([np.median(item[0]), item[1]])\n",
    "    else:\n",
    "        not_pass_res_KO.append([np.median(item[0]), item[1]])\n",
    "sns.boxplot([[i[0] for i in not_pass_res_KO], [i[0] for i in pass_res_KO]], ax=axes[0])\n",
    "axes[0].set_title(\"KO\")\n",
    "axes[0].set_xticklabels([\"didnot pass\", \"passed\"])\n",
    "axes[0].set_xlabel(\"permutation test\")\n",
    "\n",
    "WT_names = [\"M45_042718_OF\", \"M46_042718_OF\", \"081117 OF B6J M27-n1\"] # mice that didn't pass the test\n",
    "WT_data_list = [data_dir for data_dir in ParamDir().data_list if \"KO\" not in  str(data_dir).split('/')[-1]]\n",
    "\n",
    "segment_len_all = []\n",
    "for i, data_dir in enumerate(WT_data_list):\n",
    "    segment_len = []\n",
    "    data_name = str(data_dir).split('/')[-1]\n",
    "    dataset = UniformSegmentDataset(data_dir, ParamData().mobility, ParamData().shuffle, ParamData().random_state)\n",
    "    (X_train, y_train), (X_test, y_test) = dataset.load_all_data(ParamData().window_size, ParamData().K, ParamData().train_ratio)\n",
    "\n",
    "    segment_ind = segment(dataset.y_train_base)\n",
    "    segment_len.append(round((segment_ind[0]+1)/3, 2))\n",
    "    for i in range(1, len(segment_ind)):\n",
    "        segment_len.append(round((segment_ind[i]-segment_ind[i-1])/3, 2))\n",
    "    segment_len_all.append([segment_len, data_name])\n",
    "    \n",
    "\n",
    "pass_res_WT = []\n",
    "not_pass_res_WT = []\n",
    "for item in segment_len_all:\n",
    "    if item[1] not in WT_names:\n",
    "        pass_res_WT.append([np.median(item[0]), item[1]])\n",
    "    else:\n",
    "        not_pass_res_WT.append([np.median(item[0]), item[1]])\n",
    "sns.boxplot([[i[0] for i in not_pass_res_WT], [i[0] for i in pass_res_WT]], ax=axes[1])\n",
    "axes[1].set_title(\"WT\")\n",
    "axes[1].set_xticklabels([\"didnot pass\", \"passed\"])\n",
    "axes[1].set_xlabel(\"permutation test\")\n",
    "\n",
    "plt.suptitle(\"median time (sec) of staying in one position\")\n"
   ]
  },
  {
   "cell_type": "code",
   "execution_count": 3,
   "metadata": {},
   "outputs": [
    {
     "name": "stdout",
     "output_type": "stream",
     "text": [
      "passed: \n",
      " [] \n",
      "didnot pass: \n",
      " [[5.0, '091317 OF CaMKII HKO M19-n1'], [2.67, '092217 OF CaMKII HKO M30-n1'], [4.67, '091317 OF CaMKII HKO M20-n1'], [3.33, 'CK_KO_RN1_OF'], [5.165, '090817 OF CaMKII HKO M22-n1']]\n"
     ]
    }
   ],
   "source": [
    "print(f\"passed: \\n {pass_res_KO} \\ndidnot pass: \\n {not_pass_res_KO}\")"
   ]
  },
  {
   "cell_type": "code",
   "execution_count": 4,
   "metadata": {},
   "outputs": [
    {
     "name": "stdout",
     "output_type": "stream",
     "text": [
      "passed: \n",
      " [[9.0, 'CK_WT_RN3_OF'], [7.67, '092217 OF CaMKII WT M29-n1'], [6.67, 'M44_042718_OF'], [7.665, '092717 OF SERT WT M32-n1']] \n",
      "didnot pass: \n",
      " [[6.835, 'M45_042718_OF'], [6.33, 'M46_042718_OF'], [7.33, '081117 OF B6J M27-n1']]\n"
     ]
    }
   ],
   "source": [
    "print(f\"passed: \\n {pass_res_WT} \\ndidnot pass: \\n {not_pass_res_WT}\")"
   ]
  }
 ],
 "metadata": {
  "kernelspec": {
   "display_name": "Python 3",
   "language": "python",
   "name": "python3"
  },
  "language_info": {
   "codemirror_mode": {
    "name": "ipython",
    "version": 3
   },
   "file_extension": ".py",
   "mimetype": "text/x-python",
   "name": "python",
   "nbconvert_exporter": "python",
   "pygments_lexer": "ipython3",
   "version": "3.8.5"
  },
  "orig_nbformat": 4
 },
 "nbformat": 4,
 "nbformat_minor": 2
}
