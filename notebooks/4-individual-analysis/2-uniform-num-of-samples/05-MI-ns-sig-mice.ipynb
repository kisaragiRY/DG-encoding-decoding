{
 "cells": [
  {
   "cell_type": "markdown",
   "metadata": {},
   "source": [
    "#  Mutual information of sig and ns mice"
   ]
  },
  {
   "cell_type": "code",
   "execution_count": 1,
   "metadata": {},
   "outputs": [],
   "source": [
    "import seaborn as sns\n",
    "import matplotlib.pyplot as plt\n",
    "import pickle\n",
    "from scipy import stats\n",
    "\n",
    "from param import *\n",
    "from utils.plot_utils import label_diff\n",
    "\n",
    "data_list = ParamDir().data_list\n",
    "mi_data_dir = ParamDir().OUTPUT_ROOT / \"data_exploration/\""
   ]
  },
  {
   "cell_type": "code",
   "execution_count": 2,
   "metadata": {},
   "outputs": [],
   "source": [
    "KO_ids = [3] # mice that passed the test\n",
    "pass_res_KO = []\n",
    "not_pass_res_KO = []\n",
    "KO_data_list = [data_dir for data_dir in ParamDir().data_list if \"KO\" in str(data_dir).split('/')[-1]]\n",
    "for mouse_id, data_dir in enumerate(KO_data_list):\n",
    "    data_name = str(data_dir).split('/')[-1]\n",
    "    with open(mi_data_dir/data_name/\"MI_all.pickle\",\"rb\") as f:\n",
    "        results_all = pickle.load(f)\n",
    "    mi = results_all['original MI']\n",
    "    if mouse_id+1 not in KO_ids:\n",
    "        not_pass_res_KO.extend(mi)\n",
    "    else:\n",
    "        pass_res_KO.extend(mi)\n",
    "\n",
    "WT_ids = [7] # mice that didn't pass the test\n",
    "pass_res_WT = []\n",
    "not_pass_res_WT = []\n",
    "WT_data_list = [data_dir for data_dir in ParamDir().data_list if \"KO\" not in str(data_dir).split('/')[-1]]\n",
    "for mouse_id, data_dir in enumerate(WT_data_list):\n",
    "    data_name = str(data_dir).split('/')[-1]\n",
    "    with open(mi_data_dir/data_name/\"MI_all.pickle\",\"rb\") as f:\n",
    "        results_all = pickle.load(f)\n",
    "    mi = results_all['original MI']\n",
    "    if mouse_id+1 in WT_ids:\n",
    "        not_pass_res_WT.extend(mi)\n",
    "    else:\n",
    "        pass_res_WT.extend(mi)"
   ]
  },
  {
   "cell_type": "code",
   "execution_count": 3,
   "metadata": {},
   "outputs": [
    {
     "data": {
      "text/plain": [
       "Ttest_indResult(statistic=-4.4894844818024175, pvalue=1.0416523714304921e-05)"
      ]
     },
     "execution_count": 3,
     "metadata": {},
     "output_type": "execute_result"
    }
   ],
   "source": [
    "stats.ttest_ind(pass_res_KO, not_pass_res_KO)"
   ]
  },
  {
   "cell_type": "code",
   "execution_count": 4,
   "metadata": {},
   "outputs": [
    {
     "data": {
      "text/plain": [
       "Ttest_indResult(statistic=-3.2236885391451513, pvalue=0.001348338822498804)"
      ]
     },
     "execution_count": 4,
     "metadata": {},
     "output_type": "execute_result"
    }
   ],
   "source": [
    "stats.ttest_ind(pass_res_WT, not_pass_res_WT)"
   ]
  },
  {
   "cell_type": "code",
   "execution_count": 5,
   "metadata": {},
   "outputs": [
    {
     "data": {
      "text/plain": [
       "Text(0.5, 0.98, 'mutual information\\nuniform num of samples')"
      ]
     },
     "execution_count": 5,
     "metadata": {},
     "output_type": "execute_result"
    },
    {
     "data": {
      "image/png": "[encoded data removed]",
      "text/plain": [
       "<Figure size 400x300 with 2 Axes>"
      ]
     },
     "metadata": {},
     "output_type": "display_data"
    }
   ],
   "source": [
    "fig, axes = plt.subplots(figsize=(4,3), ncols=2, sharey=True, tight_layout=True)\n",
    "sns.despine()\n",
    "\n",
    "sns.boxplot([not_pass_res_KO, pass_res_KO], \n",
    "            ax=axes[0],\n",
    "            boxprops={\"facecolor\": (0, 0, 0, 0)},\n",
    "            flierprops={\"marker\": \"x\"})\n",
    "axes[0].set_xticklabels([\"ns\", \"sig\"])\n",
    "axes[0].set_title(\"KO\")\n",
    "axes[0].set_xlabel(\"permutation test\")\n",
    "label_diff(0, 1, \"****\", \n",
    "           ind=range(2), \n",
    "           Y=[np.mean(not_pass_res_KO), np.mean(pass_res_KO)], \n",
    "           errors=[np.max(not_pass_res_KO)+.004, np.max(pass_res_KO)+.004], \n",
    "           ax=axes[0], \n",
    "           barh=.0001)\n",
    "\n",
    "sns.boxplot([not_pass_res_WT, pass_res_WT],\n",
    "            ax=axes[1],\n",
    "            boxprops={\"facecolor\": (0, 0, 0, 0)},\n",
    "            flierprops={\"marker\": \"x\"})\n",
    "axes[1].set_xticklabels([\"ns\", \"sig\"])\n",
    "axes[1].set_title(\"WT\")\n",
    "axes[1].set_xlabel(\"permutation test\")\n",
    "label_diff(0, 1, \"**\", \n",
    "           ind=range(2), \n",
    "           Y=[np.mean(not_pass_res_WT), np.mean(pass_res_WT)], \n",
    "           errors=[np.max(not_pass_res_WT)-.001, np.max(pass_res_WT)-.001], \n",
    "           ax=axes[1], \n",
    "           barh=.0001)\n",
    "\n",
    "\n",
    "axes[0].set_ylabel(\"information (bits)\")\n",
    "plt.suptitle(\"mutual information\\nuniform num of samples\")"
   ]
  }
 ],
 "metadata": {
  "kernelspec": {
   "display_name": "Python 3",
   "language": "python",
   "name": "python3"
  },
  "language_info": {
   "codemirror_mode": {
    "name": "ipython",
    "version": 3
   },
   "file_extension": ".py",
   "mimetype": "text/x-python",
   "name": "python",
   "nbconvert_exporter": "python",
   "pygments_lexer": "ipython3",
   "version": "3.8.5"
  },
  "orig_nbformat": 4
 },
 "nbformat": 4,
 "nbformat_minor": 2
}
