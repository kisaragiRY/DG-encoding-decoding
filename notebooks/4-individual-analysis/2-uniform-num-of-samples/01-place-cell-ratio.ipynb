{
 "cells": [
  {
   "cell_type": "code",
   "execution_count": 1,
   "metadata": {},
   "outputs": [],
   "source": [
    "from typing import Tuple\n",
    "\n",
    "import pickle\n",
    "import seaborn as sns\n",
    "import matplotlib.pyplot as plt\n",
    "import pandas as pd\n",
    "\n",
    "from param import *\n",
    "from utils.util import get_place_cell\n",
    "\n",
    "output_dir = ParamDir().OUTPUT_ROOT/ \"data_exploration/\""
   ]
  },
  {
   "cell_type": "code",
   "execution_count": 2,
   "metadata": {},
   "outputs": [],
   "source": [
    "def get_place_cell_ratio(data_name):\n",
    "    # print(data_name)\n",
    "    with open(output_dir/data_name/\"MI_all.pickle\",\"rb\") as f:\n",
    "        results_all = pickle.load(f)\n",
    "\n",
    "    pc_beh_id, pc_event_id = get_place_cell(results_all, 0.001)\n",
    "\n",
    "    return len(pc_beh_id)/len(results_all['original MI'])"
   ]
  },
  {
   "cell_type": "code",
   "execution_count": 5,
   "metadata": {},
   "outputs": [
    {
     "data": {
      "text/plain": [
       "Text(0.5, 0.98, 'place cell ratio with uniform num of samples')"
      ]
     },
     "execution_count": 5,
     "metadata": {},
     "output_type": "execute_result"
    },
    {
     "data": {
      "image/png": "[encoded data removed]",
      "text/plain": [
       "<Figure size 400x300 with 2 Axes>"
      ]
     },
     "metadata": {},
     "output_type": "display_data"
    }
   ],
   "source": [
    "fig, axes = plt.subplots(figsize=(4,3), ncols=2, sharey=True, tight_layout=True)\n",
    "sns.despine()\n",
    "\n",
    "KO_ids = [3] # mice that passed the test\n",
    "pass_res_KO = []\n",
    "not_pass_res_KO = []\n",
    "KO_data_list = [data_dir for data_dir in ParamDir().data_list if \"KO\" in str(data_dir).split('/')[-1]]\n",
    "for mouse_id, data_dir in enumerate(KO_data_list):\n",
    "    data_name = str(data_dir).split('/')[-1]\n",
    "    ratio = get_place_cell_ratio(data_name)\n",
    "    if mouse_id+1 not in KO_ids:\n",
    "        not_pass_res_KO.append([ratio, data_name])\n",
    "    else:\n",
    "        pass_res_KO.append([ratio, data_name])\n",
    "\n",
    "sns.boxplot([[i[0] for i in not_pass_res_KO], [i[0] for i in pass_res_KO]], \n",
    "            ax=axes[0],\n",
    "            boxprops={\"facecolor\": (0, 0, 0, 0)},\n",
    "            flierprops={\"marker\": \"x\"})\n",
    "axes[0].set_xticklabels([\"ns\", \"sig\"])\n",
    "axes[0].set_title(\"KO\")\n",
    "axes[0].set_xlabel(\"permutation test\")\n",
    "\n",
    "WT_ids = [7] # mice that didn't pass the test\n",
    "pass_res_WT = []\n",
    "not_pass_res_WT = []\n",
    "WT_data_list = [data_dir for data_dir in ParamDir().data_list if \"KO\" not in str(data_dir).split('/')[-1]]\n",
    "for mouse_id, data_dir in enumerate(WT_data_list):\n",
    "    data_name = str(data_dir).split('/')[-1]\n",
    "    ratio = get_place_cell_ratio(data_name)\n",
    "    if mouse_id+1 in WT_ids:\n",
    "        not_pass_res_WT.append([ratio, data_name])\n",
    "    else:\n",
    "        pass_res_WT.append([ratio, data_name])\n",
    "sns.boxplot([[i[0] for i in not_pass_res_WT], [i[0] for i in pass_res_WT]],\n",
    "            ax=axes[1],\n",
    "            boxprops={\"facecolor\": (0, 0, 0, 0)},\n",
    "            flierprops={\"marker\": \"x\"})\n",
    "axes[1].set_xticklabels([\"ns\", \"sig\"])\n",
    "axes[1].set_title(\"WT\")\n",
    "axes[1].set_xlabel(\"permutation test\")\n",
    "\n",
    "axes[0].set_ylabel(\"ratio\")\n",
    "plt.suptitle(\"place cell ratio with uniform num of samples\")"
   ]
  },
  {
   "cell_type": "code",
   "execution_count": 4,
   "metadata": {},
   "outputs": [
    {
     "name": "stdout",
     "output_type": "stream",
     "text": [
      "passed: \n",
      " [] \n",
      "didnot pass: \n",
      " [[0.25, '091317 OF CaMKII HKO M19-n1'], [0.08620689655172414, '092217 OF CaMKII HKO M30-n1'], [0.012345679012345678, '091317 OF CaMKII HKO M20-n1'], [0.08333333333333333, 'CK_KO_RN1_OF'], [0.15942028985507245, '090817 OF CaMKII HKO M22-n1']]\n"
     ]
    }
   ],
   "source": [
    "print(f\"passed: \\n {pass_res_KO} \\ndidnot pass: \\n {not_pass_res_KO}\")"
   ]
  },
  {
   "cell_type": "code",
   "execution_count": 5,
   "metadata": {},
   "outputs": [
    {
     "name": "stdout",
     "output_type": "stream",
     "text": [
      "passed: \n",
      " [[0.06896551724137931, 'CK_WT_RN3_OF'], [0.19047619047619047, '092217 OF CaMKII WT M29-n1'], [0.5757575757575758, 'M44_042718_OF'], [0.17721518987341772, '092717 OF SERT WT M32-n1']] \n",
      "didnot pass: \n",
      " [[0.13636363636363635, 'M45_042718_OF'], [0.23863636363636365, 'M46_042718_OF'], [0.4642857142857143, '081117 OF B6J M27-n1']]\n"
     ]
    }
   ],
   "source": [
    "print(f\"passed: \\n {pass_res_WT} \\ndidnot pass: \\n {not_pass_res_WT}\")"
   ]
  }
 ],
 "metadata": {
  "kernelspec": {
   "display_name": "Python 3",
   "language": "python",
   "name": "python3"
  },
  "language_info": {
   "codemirror_mode": {
    "name": "ipython",
    "version": 3
   },
   "file_extension": ".py",
   "mimetype": "text/x-python",
   "name": "python",
   "nbconvert_exporter": "python",
   "pygments_lexer": "ipython3",
   "version": "3.8.5"
  },
  "orig_nbformat": 4
 },
 "nbformat": 4,
 "nbformat_minor": 2
}
