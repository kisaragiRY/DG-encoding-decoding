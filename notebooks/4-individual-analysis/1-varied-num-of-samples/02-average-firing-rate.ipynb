{
 "cells": [
  {
   "attachments": {},
   "cell_type": "markdown",
   "metadata": {},
   "source": [
    "# Average firing rate"
   ]
  },
  {
   "cell_type": "code",
   "execution_count": 1,
   "metadata": {},
   "outputs": [],
   "source": [
    "from typing import Tuple\n",
    "\n",
    "import seaborn as sns\n",
    "import matplotlib.pyplot as plt\n",
    "from scipy import stats\n",
    "\n",
    "from param import *\n",
    "from dataloader import UniformSegmentDataset, BaseDataset\n",
    "from utils.plot_utils import label_diff\n",
    "\n",
    "data_list = ParamDir().data_list"
   ]
  },
  {
   "cell_type": "markdown",
   "metadata": {},
   "source": [
    "## Totoal spikes per segment"
   ]
  },
  {
   "cell_type": "code",
   "execution_count": 2,
   "metadata": {},
   "outputs": [],
   "source": [
    "# mouse_name = \"091317 OF CaMKII HKO M19-n1\" # KO that passed the test\n",
    "# data_dir = ParamDir().DATA_ROOT / mouse_name\n",
    "KO_data_list = [data_dir for data_dir in ParamDir().data_list if \"KO\" in  str(data_dir).split('/')[-1]]\n",
    "\n",
    "pass_res_KO = []\n",
    "not_pass_res_KO = []\n",
    "for mouse_id, data_dir in enumerate(KO_data_list):\n",
    "    data_name = str(data_dir).split('/')[-1]\n",
    "    dataset = UniformSegmentDataset(data_dir, ParamData().mobility, ParamData().shuffle, ParamData().random_state)\n",
    "    (X_train, y_train), (X_test, y_test) = dataset.load_all_data(ParamData().window_size, ParamData().K, ParamData().train_ratio)\n",
    "    avg_fr = X_train.sum(axis=1).sum(axis=1) # total spikes/segment\n",
    "    # avg_fr = X_train.mean(axis=1).mean(axis=1) * 3 # average firing rate, unit spikes/s\n",
    "\n",
    "    if mouse_id+1 in [1]:\n",
    "        pass_res_KO.extend(avg_fr)\n",
    "    else:\n",
    "        not_pass_res_KO.extend(avg_fr)\n",
    "\n",
    "WT_data_list = [data_dir for data_dir in ParamDir().data_list if \"KO\" not in  str(data_dir).split('/')[-1]]\n",
    "\n",
    "pass_res_WT = []\n",
    "not_pass_res_WT = []\n",
    "for mouse_id, data_dir in enumerate(WT_data_list):\n",
    "    data_name = str(data_dir).split('/')[-1]\n",
    "    dataset = UniformSegmentDataset(data_dir, ParamData().mobility, ParamData().shuffle, ParamData().random_state)\n",
    "    (X_train, y_train), (X_test, y_test) = dataset.load_all_data(ParamData().window_size, ParamData().K, ParamData().train_ratio)\n",
    "    avg_fr = X_train.sum(axis=1).sum(axis=1) # total spikes/segment\n",
    "    # avg_fr = X_train.mean(axis=1).mean(axis=1) * 3 # average firing rate, unit spikes/s\n",
    "\n",
    "    if mouse_id+1 not in [1, 2, 4]: # mice that didnot pass\n",
    "        pass_res_WT.extend(avg_fr)\n",
    "    else:\n",
    "        not_pass_res_WT.extend(avg_fr)\n",
    "\n"
   ]
  },
  {
   "cell_type": "code",
   "execution_count": 3,
   "metadata": {},
   "outputs": [
    {
     "data": {
      "text/plain": [
       "Ttest_indResult(statistic=4.892481319525637, pvalue=1.3403269838625286e-06)"
      ]
     },
     "execution_count": 3,
     "metadata": {},
     "output_type": "execute_result"
    }
   ],
   "source": [
    "stats.ttest_ind(pass_res_KO, not_pass_res_KO)"
   ]
  },
  {
   "cell_type": "code",
   "execution_count": 4,
   "metadata": {},
   "outputs": [
    {
     "data": {
      "text/plain": [
       "Ttest_indResult(statistic=-4.989616334043946, pvalue=7.824054439970726e-07)"
      ]
     },
     "execution_count": 4,
     "metadata": {},
     "output_type": "execute_result"
    }
   ],
   "source": [
    "stats.ttest_ind(pass_res_WT, not_pass_res_WT)"
   ]
  },
  {
   "cell_type": "code",
   "execution_count": 5,
   "metadata": {},
   "outputs": [
    {
     "data": {
      "text/plain": [
       "Text(0.5, 0.98, 'total spikes per segment during training')"
      ]
     },
     "execution_count": 5,
     "metadata": {},
     "output_type": "execute_result"
    },
    {
     "data": {
      "image/png": "[encoded data removed]",
      "text/plain": [
       "<Figure size 400x300 with 2 Axes>"
      ]
     },
     "metadata": {},
     "output_type": "display_data"
    }
   ],
   "source": [
    "fig, axes = plt.subplots(figsize=(4,3), ncols=2, tight_layout = True, sharey=True)\n",
    "sns.despine()\n",
    "\n",
    "sns.boxplot([not_pass_res_KO, pass_res_KO], \n",
    "            ax=axes[0],\n",
    "            boxprops={\"facecolor\": (0, 0, 0, 0)},\n",
    "            flierprops={\"marker\": \"x\"})\n",
    "axes[0].set_title(\"KO\")\n",
    "axes[0].set_xticklabels([\"ns\", \"sig\"])\n",
    "axes[0].set_xlabel(\"permutation test\")\n",
    "label_diff(0, 1, \"****\", \n",
    "           ind=range(2), \n",
    "           Y=[np.mean(not_pass_res_KO), np.mean(pass_res_KO)], \n",
    "           errors=[np.max(not_pass_res_KO)-5, np.max(pass_res_KO)-5], \n",
    "           ax=axes[0], \n",
    "           barh=1)\n",
    "\n",
    "sns.boxplot([not_pass_res_WT, pass_res_WT], \n",
    "            ax=axes[1],\n",
    "            boxprops={\"facecolor\": (0, 0, 0, 0)},\n",
    "            flierprops={\"marker\": \"x\"})\n",
    "\n",
    "axes[1].set_title(\"WT\")\n",
    "axes[1].set_xticklabels([\"ns\", \"sig\"])\n",
    "axes[1].set_xlabel(\"permutation test\")\n",
    "label_diff(0, 1, \"****\", \n",
    "           ind=range(2), \n",
    "           Y=[np.mean(not_pass_res_WT), np.mean(pass_res_WT)], \n",
    "           errors=[np.max(not_pass_res_WT)-7, np.max(pass_res_WT)-7], \n",
    "           ax=axes[1], \n",
    "           barh=1)\n",
    "\n",
    "plt.suptitle(\"total spikes per segment during training\")"
   ]
  }
 ],
 "metadata": {
  "kernelspec": {
   "display_name": "Python 3",
   "language": "python",
   "name": "python3"
  },
  "language_info": {
   "codemirror_mode": {
    "name": "ipython",
    "version": 3
   },
   "file_extension": ".py",
   "mimetype": "text/x-python",
   "name": "python",
   "nbconvert_exporter": "python",
   "pygments_lexer": "ipython3",
   "version": "3.8.5"
  },
  "orig_nbformat": 4
 },
 "nbformat": 4,
 "nbformat_minor": 2
}
