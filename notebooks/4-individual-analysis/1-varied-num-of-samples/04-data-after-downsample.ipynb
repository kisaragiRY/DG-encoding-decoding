{
 "cells": [
  {
   "attachments": {},
   "cell_type": "markdown",
   "metadata": {},
   "source": [
    "# Check the data left after downsampling"
   ]
  },
  {
   "cell_type": "code",
   "execution_count": 1,
   "metadata": {},
   "outputs": [],
   "source": [
    "from typing import Tuple\n",
    "\n",
    "import seaborn as sns\n",
    "import matplotlib.pyplot as plt\n",
    "\n",
    "from param import *\n",
    "from modules.dataloader import UniformSegmentDataset, BaseDataset\n",
    "from modules.utils.util import segment\n",
    "\n",
    "data_list = ParamDir().data_list"
   ]
  },
  {
   "cell_type": "code",
   "execution_count": 2,
   "metadata": {},
   "outputs": [
    {
     "data": {
      "text/plain": [
       "Text(0.5, 0, 'permutation test')"
      ]
     },
     "execution_count": 2,
     "metadata": {},
     "output_type": "execute_result"
    },
    {
     "data": {
      "image/png": "[encoded data removed]",
      "text/plain": [
       "<Figure size 800x300 with 2 Axes>"
      ]
     },
     "metadata": {},
     "output_type": "display_data"
    }
   ],
   "source": [
    "fig, axes = plt.subplots(figsize=(8,3), ncols=2, sharey=True)\n",
    "\n",
    "KO_data_list = [data_dir for data_dir in ParamDir().data_list if \"KO\" in  str(data_dir).split('/')[-1]]\n",
    "\n",
    "data_amout_all = []\n",
    "for i, data_dir in enumerate(KO_data_list):\n",
    "    segment_len = []\n",
    "    data_name = str(data_dir).split('/')[-1]\n",
    "    dataset = UniformSegmentDataset(data_dir, ParamData().mobility, ParamData().shuffle, ParamData().random_state)\n",
    "    (X_train, y_train), (X_test, y_test) = dataset.load_all_data(ParamData().window_size, ParamData().K, ParamData().train_ratio)\n",
    "\n",
    "    data_amout_all.append([len(X_train), data_name])\n",
    "    \n",
    "pass_res_KO = []\n",
    "not_pass_res_KO = []\n",
    "for item in data_amout_all:\n",
    "    if item[1] in [\"091317 OF CaMKII HKO M19-n1\"]:\n",
    "        pass_res_KO.append([np.mean(item[0]), item[1]])\n",
    "    else:\n",
    "        not_pass_res_KO.append([np.mean(item[0]), item[1]])\n",
    "sns.boxplot([[i[0] for i in not_pass_res_KO], [i[0] for i in pass_res_KO]], ax=axes[0])\n",
    "axes[0].set_title(\"data after downsample\")\n",
    "axes[0].set_xticklabels([\"didnot pass\", \"passed\"])\n",
    "axes[0].set_xlabel(\"permutation test\")\n",
    "\n",
    "\n",
    "WT_names = [\"M45_042718_OF\", \"M46_042718_OF\", \"092217 OF CaMKII WT M29-n1\"]\n",
    "WT_data_list = [data_dir for data_dir in ParamDir().data_list if \"KO\" not in  str(data_dir).split('/')[-1]]\n",
    "\n",
    "data_amout_all = []\n",
    "for i, data_dir in enumerate(WT_data_list):\n",
    "    segment_len = []\n",
    "    data_name = str(data_dir).split('/')[-1]\n",
    "    dataset = UniformSegmentDataset(data_dir, ParamData().mobility, ParamData().shuffle, ParamData().random_state)\n",
    "    (X_train, y_train), (X_test, y_test) = dataset.load_all_data(ParamData().window_size, ParamData().K, ParamData().train_ratio)\n",
    "\n",
    "    data_amout_all.append([len(X_train), data_name])\n",
    "    \n",
    "\n",
    "pass_res_WT = []\n",
    "not_pass_res_WT = []\n",
    "for item in data_amout_all:\n",
    "    if item[1] not in  WT_names:\n",
    "        pass_res_WT.append([np.mean(item[0]), item[1]])\n",
    "    else:\n",
    "        not_pass_res_WT.append([np.mean(item[0]), item[1]])\n",
    "sns.boxplot([[i[0] for i in not_pass_res_WT], [i[0] for i in pass_res_WT]], ax=axes[1])\n",
    "axes[1].set_title(\"data after downsample\")\n",
    "axes[1].set_xticklabels([\"didnot pass\", \"passed\"])\n",
    "axes[1].set_xlabel(\"permutation test\")\n",
    "\n"
   ]
  },
  {
   "cell_type": "code",
   "execution_count": 3,
   "metadata": {},
   "outputs": [
    {
     "name": "stdout",
     "output_type": "stream",
     "text": [
      "passed: \n",
      " [[124.0, '091317 OF CaMKII HKO M19-n1']] \n",
      "didnot pass: \n",
      " [[108.0, '092217 OF CaMKII HKO M30-n1'], [92.0, '091317 OF CaMKII HKO M20-n1'], [100.0, 'CK_KO_RN1_OF'], [84.0, '090817 OF CaMKII HKO M22-n1']]\n"
     ]
    }
   ],
   "source": [
    "print(f\"passed: \\n {pass_res_KO} \\ndidnot pass: \\n {not_pass_res_KO}\")"
   ]
  },
  {
   "cell_type": "code",
   "execution_count": 4,
   "metadata": {},
   "outputs": [
    {
     "name": "stdout",
     "output_type": "stream",
     "text": [
      "passed: \n",
      " [[104.0, 'CK_WT_RN3_OF'], [108.0, 'M44_042718_OF'], [84.0, '092717 OF SERT WT M32-n1'], [100.0, '081117 OF B6J M27-n1']] \n",
      "didnot pass: \n",
      " [[56.0, 'M45_042718_OF'], [96.0, 'M46_042718_OF'], [88.0, '092217 OF CaMKII WT M29-n1']]\n"
     ]
    }
   ],
   "source": [
    "print(f\"passed: \\n {pass_res_WT} \\ndidnot pass: \\n {not_pass_res_WT}\")"
   ]
  }
 ],
 "metadata": {
  "kernelspec": {
   "display_name": "Python 3",
   "language": "python",
   "name": "python3"
  },
  "language_info": {
   "codemirror_mode": {
    "name": "ipython",
    "version": 3
   },
   "file_extension": ".py",
   "mimetype": "text/x-python",
   "name": "python",
   "nbconvert_exporter": "python",
   "pygments_lexer": "ipython3",
   "version": "3.10.13"
  },
  "orig_nbformat": 4
 },
 "nbformat": 4,
 "nbformat_minor": 2
}
