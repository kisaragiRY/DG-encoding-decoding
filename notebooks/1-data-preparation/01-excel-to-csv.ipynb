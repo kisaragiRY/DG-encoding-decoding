{
 "cells": [
  {
   "cell_type": "markdown",
   "metadata": {},
   "source": [
    "# convert excel to csv"
   ]
  },
  {
   "cell_type": "code",
   "execution_count": 1,
   "metadata": {},
   "outputs": [],
   "source": [
    "from pathlib import Path\n",
    "import os\n",
    "import pandas as pd\n",
    "import numpy as np\n",
    "\n",
    "os.chdir(\"/work\")\n"
   ]
  },
  {
   "cell_type": "code",
   "execution_count": 3,
   "metadata": {},
   "outputs": [],
   "source": [
    "# %%time\n",
    "DATA_DIR = Path('data/raw/')\n",
    "output_dir = Path('data/processed/')\n",
    "datalist = np.array([x for x in DATA_DIR.iterdir()])\n",
    "for data_dir in datalist:\n",
    "    data_name = str(data_dir).split('/')[-1]\n",
    "    if not (output_dir/data_name).is_dir():\n",
    "        (output_dir/data_name).mkdir()\n",
    "    coords_df = pd.read_excel(data_dir/'position.xlsx')\n",
    "    coords_df.to_csv(output_dir/data_name/'position.csv')\n",
    "\n",
    "    spikes_df = pd.read_excel(data_dir/'traces.xlsx',index_col=0)\n",
    "    spikes_df.to_csv(output_dir/data_name/'traces.csv')"
   ]
  },
  {
   "cell_type": "code",
   "execution_count": 7,
   "metadata": {},
   "outputs": [
    {
     "name": "stdout",
     "output_type": "stream",
     "text": [
      "CPU times: user 220 ms, sys: 40 ms, total: 260 ms\n",
      "Wall time: 266 ms\n"
     ]
    }
   ],
   "source": [
    "%%time\n",
    "datalist = np.array([x for x in output_dir.iterdir()])\n",
    "for data_dir in datalist:\n",
    "    data_name = str(data_dir).split('/')[-1]\n",
    "    pd.read_csv(data_dir/'position.csv')\n",
    "    pd.read_csv(data_dir/'traces.csv',index_col=0)"
   ]
  },
  {
   "cell_type": "code",
   "execution_count": 8,
   "metadata": {},
   "outputs": [
    {
     "name": "stdout",
     "output_type": "stream",
     "text": [
      "CPU times: user 45.4 s, sys: 9.79 ms, total: 45.4 s\n",
      "Wall time: 45.4 s\n"
     ]
    }
   ],
   "source": [
    "%%time\n",
    "datalist = np.array([x for x in DATA_DIR.iterdir()])\n",
    "for data_dir in datalist:\n",
    "    data_name = str(data_dir).split('/')[-1]\n",
    "    pd.read_excel(data_dir/'position.xlsx')\n",
    "    pd.read_excel(data_dir/'traces.xlsx',index_col=0)"
   ]
  }
 ],
 "metadata": {
  "kernelspec": {
   "display_name": "Python 3.8.5 64-bit",
   "language": "python",
   "name": "python3"
  },
  "language_info": {
   "codemirror_mode": {
    "name": "ipython",
    "version": 3
   },
   "file_extension": ".py",
   "mimetype": "text/x-python",
   "name": "python",
   "nbconvert_exporter": "python",
   "pygments_lexer": "ipython3",
   "version": "3.8.5"
  },
  "orig_nbformat": 4,
  "vscode": {
   "interpreter": {
    "hash": "aee8b7b246df8f9039afb4144a1f6fd8d2ca17a180786b69acc140d282b71a49"
   }
  }
 },
 "nbformat": 4,
 "nbformat_minor": 2
}
