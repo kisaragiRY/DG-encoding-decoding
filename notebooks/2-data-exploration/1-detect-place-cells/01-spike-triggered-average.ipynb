{
 "cells": [
  {
   "attachments": {},
   "cell_type": "markdown",
   "metadata": {},
   "source": [
    "# Spatial Tuning Maps"
   ]
  },
  {
   "cell_type": "code",
   "execution_count": 4,
   "metadata": {},
   "outputs": [],
   "source": [
    "import pickle\n",
    "import os\n",
    "import matplotlib.pyplot as plt\n",
    "from matplotlib.lines import Line2D\n",
    "from pathlib import Path\n",
    "import numpy as np\n",
    "from tqdm import tqdm\n",
    "\n",
    "from dataloader import BaseDataset\n",
    "from util import *\n",
    "\n",
    "ROOT = Path(\"/work\")\n",
    "DATA_DIR = ROOT/Path('data/alldata/')\n",
    "datalist = np.array([x for x in DATA_DIR.iterdir()])\n"
   ]
  },
  {
   "attachments": {},
   "cell_type": "markdown",
   "metadata": {},
   "source": [
    "## Representatives"
   ]
  },
  {
   "attachments": {},
   "cell_type": "markdown",
   "metadata": {},
   "source": [
    "### knockout"
   ]
  },
  {
   "cell_type": "code",
   "execution_count": 13,
   "metadata": {},
   "outputs": [
    {
     "data": {
      "image/png": "[encoded data removed]",
      "text/plain": [
       "<Figure size 700x200 with 5 Axes>"
      ]
     },
     "metadata": {},
     "output_type": "display_data"
    },
    {
     "data": {
      "image/png": "[encoded data removed]",
      "text/plain": [
       "<Figure size 700x200 with 5 Axes>"
      ]
     },
     "metadata": {},
     "output_type": "display_data"
    }
   ],
   "source": [
    "for data_dir in datalist[[2,1]]:\n",
    "    data_name = str(data_dir).split('/')[-1]\n",
    "    mouse_type = \"knockout\" if \"KO\" in data_name else \"wild-type\"\n",
    "\n",
    "    dataset = BaseDataset(data_dir, False, False)\n",
    "    num_neuron = dataset.spikes.shape[1]\n",
    "\n",
    "    # show 12 neurons\n",
    "    fig, axes = plt.subplots(ncols=5 ,tight_layout=True, figsize=(7,2))\n",
    "    axes = axes.ravel()\n",
    "\n",
    "    # plot spikes\n",
    "    for neuron_id in range(len(axes)):\n",
    "\n",
    "        sta = cal_sta(dataset, num_par=200, neuron_id=neuron_id)\n",
    "        for y, row in enumerate(sta):\n",
    "            for x, spike in enumerate(row):\n",
    "                if spike != 0 :\n",
    "                    axes[neuron_id].scatter(x,y, c=\"r\", alpha = .2)\n",
    "        # axes[neuron_id].imshow(sta)\n",
    "        axes[neuron_id].set_title(f\"neuron {neuron_id+1}\")\n",
    "        axes[neuron_id].get_yaxis().set_visible(False)\n",
    "        axes[neuron_id].get_xaxis().set_visible(False)\n",
    "        axes[neuron_id].set_aspect(\"equal\")\n",
    "        axes[neuron_id].set_xlim(0,200)\n",
    "        axes[neuron_id].set_ylim(0,200)\n",
    "\n",
    "    fig.suptitle(mouse_type)"
   ]
  },
  {
   "attachments": {},
   "cell_type": "markdown",
   "metadata": {},
   "source": [
    "## All mice\n",
    "save fig to `data/interim/data-exploration`"
   ]
  },
  {
   "cell_type": "code",
   "execution_count": 5,
   "metadata": {},
   "outputs": [
    {
     "name": "stderr",
     "output_type": "stream",
     "text": [
      "100%|██████████| 12/12 [07:31<00:00, 37.60s/it]\n"
     ]
    },
    {
     "data": {
      "text/plain": [
       "<Figure size 1000x2200 with 0 Axes>"
      ]
     },
     "metadata": {},
     "output_type": "display_data"
    },
    {
     "data": {
      "text/plain": [
       "<Figure size 1000x2400 with 0 Axes>"
      ]
     },
     "metadata": {},
     "output_type": "display_data"
    },
    {
     "data": {
      "text/plain": [
       "<Figure size 1000x2800 with 0 Axes>"
      ]
     },
     "metadata": {},
     "output_type": "display_data"
    },
    {
     "data": {
      "text/plain": [
       "<Figure size 1000x3400 with 0 Axes>"
      ]
     },
     "metadata": {},
     "output_type": "display_data"
    },
    {
     "data": {
      "text/plain": [
       "<Figure size 1000x3600 with 0 Axes>"
      ]
     },
     "metadata": {},
     "output_type": "display_data"
    },
    {
     "data": {
      "text/plain": [
       "<Figure size 1000x1000 with 0 Axes>"
      ]
     },
     "metadata": {},
     "output_type": "display_data"
    },
    {
     "data": {
      "text/plain": [
       "<Figure size 1000x4800 with 0 Axes>"
      ]
     },
     "metadata": {},
     "output_type": "display_data"
    },
    {
     "data": {
      "text/plain": [
       "<Figure size 1000x2800 with 0 Axes>"
      ]
     },
     "metadata": {},
     "output_type": "display_data"
    },
    {
     "data": {
      "text/plain": [
       "<Figure size 1000x2600 with 0 Axes>"
      ]
     },
     "metadata": {},
     "output_type": "display_data"
    },
    {
     "data": {
      "text/plain": [
       "<Figure size 1000x1400 with 0 Axes>"
      ]
     },
     "metadata": {},
     "output_type": "display_data"
    },
    {
     "data": {
      "text/plain": [
       "<Figure size 1000x3200 with 0 Axes>"
      ]
     },
     "metadata": {},
     "output_type": "display_data"
    },
    {
     "data": {
      "text/plain": [
       "<Figure size 1000x2400 with 0 Axes>"
      ]
     },
     "metadata": {},
     "output_type": "display_data"
    }
   ],
   "source": [
    "OUTPUT_DIR = ROOT/Path(\"data/interim/data-exploration/\")\n",
    "ko_count, wt_count = 0, 0\n",
    "for data_dir in tqdm(datalist):\n",
    "    data_name = str(data_dir).split('/')[-1]\n",
    "\n",
    "    dataset = BaseDataset(data_dir, False, False)\n",
    "    num_neuron = dataset.spikes.shape[1]\n",
    "\n",
    "    # show all neurons\n",
    "    fig, axes = plt.subplots(\n",
    "        nrows = int(np.ceil((num_neuron + 1) / 5)), \n",
    "        ncols = 5, \n",
    "        figsize = (10, 2 * int(np.ceil((num_neuron+ 1 ) / 5))),\n",
    "        sharex = True,\n",
    "        sharey = True\n",
    "        )\n",
    "\n",
    "    if \"KO\" in data_name:\n",
    "        mouse_type = \"knockout\"\n",
    "        ko_count+=1\n",
    "        fig.suptitle(f\"{mouse_type} {ko_count}\")\n",
    "\n",
    "    else:\n",
    "        mouse_type = \"wild-type\"\n",
    "        wt_count+=1\n",
    "        fig.suptitle(f\"{mouse_type} {wt_count}\")\n",
    "\n",
    "    axes = axes.ravel()\n",
    "    \n",
    "    # plot traces\n",
    "    x, y = dataset.coords_xy[:, 0], dataset.coords_xy[:, 1]\n",
    "    axes[0].plot(x, y)\n",
    "    axes[0].set_aspect(\"equal\")\n",
    "    axes[0].set_xlim(0,200)\n",
    "    axes[0].set_ylim(0,200)\n",
    "    # plot spikes\n",
    "    for neuron_id in range(len(axes)-1):\n",
    "        if neuron_id < num_neuron:\n",
    "            sta = cal_sta(dataset, num_par=200, neuron_id=neuron_id)\n",
    "            for y, row in enumerate(sta):\n",
    "                for x, spike in enumerate(row):\n",
    "                    if spike != 0 :\n",
    "                        axes[neuron_id+1].scatter(x,y, c=\"r\", alpha = .2)\n",
    "        # axes[neuron_id].imshow(sta)\n",
    "            axes[neuron_id+1].set_title(f\"n {neuron_id+1}\")\n",
    "        axes[neuron_id+1].get_yaxis().set_visible(False)\n",
    "        axes[neuron_id+1].get_xaxis().set_visible(False)\n",
    "        axes[neuron_id+1].set_aspect(\"equal\")\n",
    "\n",
    "    if not (OUTPUT_DIR/data_name).exists():\n",
    "        (OUTPUT_DIR/data_name).mkdir()\n",
    "    fig.savefig(OUTPUT_DIR/data_name/\"sta.png\")\n",
    "    fig.clf()"
   ]
  }
 ],
 "metadata": {
  "kernelspec": {
   "display_name": "Python 3",
   "language": "python",
   "name": "python3"
  },
  "language_info": {
   "codemirror_mode": {
    "name": "ipython",
    "version": 3
   },
   "file_extension": ".py",
   "mimetype": "text/x-python",
   "name": "python",
   "nbconvert_exporter": "python",
   "pygments_lexer": "ipython3",
   "version": "3.8.5"
  },
  "orig_nbformat": 4,
  "vscode": {
   "interpreter": {
    "hash": "aee8b7b246df8f9039afb4144a1f6fd8d2ca17a180786b69acc140d282b71a49"
   }
  }
 },
 "nbformat": 4,
 "nbformat_minor": 2
}
