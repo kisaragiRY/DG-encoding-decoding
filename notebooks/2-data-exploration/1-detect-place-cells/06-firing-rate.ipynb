{
 "cells": [
  {
   "cell_type": "markdown",
   "metadata": {},
   "source": [
    "# Check firing rate of each neuron"
   ]
  },
  {
   "cell_type": "code",
   "execution_count": 1,
   "metadata": {},
   "outputs": [],
   "source": [
    "import seaborn as sns\n",
    "import matplotlib.pyplot as plt\n",
    "from pathlib import Path\n",
    "import numpy as np\n",
    "import pandas as pd\n",
    "from scipy import stats\n",
    "import pickle\n",
    "\n",
    "from dataloader import BaseDataset\n",
    "from utils.util import get_place_cell\n",
    "from utils.plot_utils import label_diff\n",
    "from param import *\n",
    "\n",
    "mi_dir = ParamDir().output_dir"
   ]
  },
  {
   "cell_type": "markdown",
   "metadata": {},
   "source": [
    "## with all the cells"
   ]
  },
  {
   "cell_type": "code",
   "execution_count": 2,
   "metadata": {},
   "outputs": [],
   "source": [
    "\n",
    "spikes_all = []\n",
    "mouse_type_list = []\n",
    "ratio_all = []\n",
    "for data_dir in ParamDir().data_list:\n",
    "\n",
    "    data_name = str(data_dir).split('/')[-1]\n",
    "    mouse_type = \"KO\" if \"KO\" in data_name else \"WT\"\n",
    "    dataset = BaseDataset(data_dir, False, ParamData().shuffle, ParamData().random_state)\n",
    "    position = dataset._discretize_coords()\n",
    "\n",
    "    # mean firing rate at each position\n",
    "    n_time, n_neuron = dataset.spikes.shape\n",
    "    spikes_all.extend(list((dataset.spikes.sum(axis=0))/(n_time/3)))\n",
    "    mouse_type_list.extend([f\"{mouse_type}\"]*len(dataset.spikes.sum(axis=0)))\n",
    "\n"
   ]
  },
  {
   "cell_type": "code",
   "execution_count": 3,
   "metadata": {},
   "outputs": [],
   "source": [
    "df_firing_rate_all = pd.DataFrame(spikes_all, columns=[\"firing rate\"])\n",
    "df_firing_rate_all[\"mouse type\"] = mouse_type_list\n",
    "means = df_firing_rate_all.groupby(\"mouse type\").mean().values\n",
    "errors = df_firing_rate_all.groupby(\"mouse type\").max().values -.02\n",
    "ind = [str(i+1) for i in range(len(means))]\n",
    "\n",
    "plot_data = [\n",
    "    df_firing_rate_all[df_firing_rate_all[\"mouse type\"]==\"KO\"][\"firing rate\"], \n",
    "    df_firing_rate_all[df_firing_rate_all[\"mouse type\"]==\"WT\"][\"firing rate\"]\n",
    "    ]"
   ]
  },
  {
   "cell_type": "code",
   "execution_count": 4,
   "metadata": {},
   "outputs": [
    {
     "data": {
      "text/plain": [
       "Ttest_indResult(statistic=4.956920667974125, pvalue=8.782940828382137e-07)"
      ]
     },
     "execution_count": 4,
     "metadata": {},
     "output_type": "execute_result"
    }
   ],
   "source": [
    "stats.ttest_ind(plot_data[0], plot_data[1])"
   ]
  },
  {
   "cell_type": "code",
   "execution_count": 5,
   "metadata": {},
   "outputs": [
    {
     "data": {
      "text/plain": [
       "Text(0.5, 1.0, 'firing rate of each neuron')"
      ]
     },
     "execution_count": 5,
     "metadata": {},
     "output_type": "execute_result"
    },
    {
     "data": {
      "image/png": "[encoded data removed]",
      "text/plain": [
       "<Figure size 400x400 with 1 Axes>"
      ]
     },
     "metadata": {},
     "output_type": "display_data"
    }
   ],
   "source": [
    "fig, ax = plt.subplots(figsize=(4,4))\n",
    "sns.despine()\n",
    "\n",
    "sns.boxplot([df_firing_rate_all[df_firing_rate_all[\"mouse type\"]==\"KO\"][\"firing rate\"], df_firing_rate_all[df_firing_rate_all[\"mouse type\"]==\"WT\"][\"firing rate\"]],\n",
    "            ax=ax,\n",
    "            boxprops={\"facecolor\": (0, 0, 0, 0)},\n",
    "            flierprops={\"marker\": \"x\"})\n",
    "label_diff(0, 1, \"****\", ind=[0,1], Y=means, errors=errors, ax=ax, barh=.005)\n",
    "\n",
    "ax.set_xticklabels([\"KO\", \"WT\"])\n",
    "ax.set_xlabel(\"mouse type\")\n",
    "ax.set_ylabel(\"firing rate (spikes/sec)\")\n",
    "ax.set_title(\"firing rate of each neuron\")\n",
    "\n"
   ]
  },
  {
   "cell_type": "markdown",
   "metadata": {},
   "source": [
    "## with place cells"
   ]
  },
  {
   "cell_type": "code",
   "execution_count": 7,
   "metadata": {},
   "outputs": [],
   "source": [
    "\n",
    "spikes_all = []\n",
    "mouse_type_list = []\n",
    "cell_type_list = []\n",
    "data_name_list = []\n",
    "for data_dir in ParamDir().data_list:\n",
    "\n",
    "    data_name = str(data_dir).split('/')[-1]\n",
    "    mouse_type = \"KO\" if \"KO\" in data_name else \"WT\"\n",
    "    dataset = BaseDataset(data_dir, False, ParamData().shuffle, ParamData().random_state)\n",
    "    position = dataset._discretize_coords()\n",
    "\n",
    "    with open(mi_dir/data_name/\"MI_all.pickle\",\"rb\") as f:\n",
    "        results_all = pickle.load(f)\n",
    "    pc_beh_id, pc_event_id = get_place_cell(results_all, 0.01)\n",
    "\n",
    "    # mean firing rate at each position\n",
    "    n_time, n_neuron = dataset.spikes.shape\n",
    "    spikes_all.extend(list((dataset.spikes.sum(axis=0))/(n_time/3)))\n",
    "    mouse_type_list.extend([f\"{mouse_type}\"]*n_neuron)\n",
    "    cell_type_list.extend([\"pc\" if i in pc_beh_id else \"np\" for i in range(n_neuron)]) # pc: place cell; np: non place cell\n",
    "    data_name_list.extend([f\"{data_name}\"]*n_neuron)\n",
    "\n",
    "df_firing_rate_all = pd.DataFrame(spikes_all, columns=[\"firing rate\"])\n",
    "df_firing_rate_all[\"mouse type\"] = mouse_type_list\n",
    "df_firing_rate_all[\"cell type\"] = cell_type_list\n",
    "df_firing_rate_all[\"data name\"] = data_name_list"
   ]
  },
  {
   "cell_type": "code",
   "execution_count": 8,
   "metadata": {},
   "outputs": [
    {
     "data": {
      "text/plain": [
       "Ttest_indResult(statistic=-4.072932904580858, pvalue=6.73551749453269e-05)"
      ]
     },
     "execution_count": 8,
     "metadata": {},
     "output_type": "execute_result"
    }
   ],
   "source": [
    "# WT:pc and KO:pc\n",
    "stats.ttest_ind(df_firing_rate_all[(df_firing_rate_all[\"mouse type\"]==\"WT\")&(df_firing_rate_all[\"cell type\"]==\"pc\")][\"firing rate\"],\n",
    "                df_firing_rate_all[(df_firing_rate_all[\"mouse type\"]==\"KO\")&(df_firing_rate_all[\"cell type\"]==\"pc\")][\"firing rate\"])\n"
   ]
  },
  {
   "cell_type": "code",
   "execution_count": 9,
   "metadata": {},
   "outputs": [
    {
     "data": {
      "text/plain": [
       "Ttest_indResult(statistic=6.885815391652819, pvalue=1.7341692241911267e-11)"
      ]
     },
     "execution_count": 9,
     "metadata": {},
     "output_type": "execute_result"
    }
   ],
   "source": [
    "# WT:pc and np\n",
    "stats.ttest_ind(df_firing_rate_all[(df_firing_rate_all[\"mouse type\"]==\"WT\")&(df_firing_rate_all[\"cell type\"]==\"pc\")][\"firing rate\"],\n",
    "                df_firing_rate_all[(df_firing_rate_all[\"mouse type\"]==\"WT\")&(df_firing_rate_all[\"cell type\"]==\"np\")][\"firing rate\"])\n"
   ]
  },
  {
   "cell_type": "code",
   "execution_count": 10,
   "metadata": {},
   "outputs": [
    {
     "data": {
      "text/plain": [
       "Ttest_indResult(statistic=4.907788570719105, pvalue=1.5603510456374705e-06)"
      ]
     },
     "execution_count": 10,
     "metadata": {},
     "output_type": "execute_result"
    }
   ],
   "source": [
    "# KO:pc and np\n",
    "stats.ttest_ind(df_firing_rate_all[(df_firing_rate_all[\"mouse type\"]==\"KO\")&(df_firing_rate_all[\"cell type\"]==\"pc\")][\"firing rate\"],\n",
    "                df_firing_rate_all[(df_firing_rate_all[\"mouse type\"]==\"KO\")&(df_firing_rate_all[\"cell type\"]==\"np\")][\"firing rate\"])\n"
   ]
  },
  {
   "cell_type": "code",
   "execution_count": 16,
   "metadata": {},
   "outputs": [
    {
     "data": {
      "text/plain": [
       "<matplotlib.legend.Legend at 0x7f070d64f940>"
      ]
     },
     "execution_count": 16,
     "metadata": {},
     "output_type": "execute_result"
    },
    {
     "data": {
      "image/png": "[encoded data removed]",
      "text/plain": [
       "<Figure size 500x400 with 1 Axes>"
      ]
     },
     "metadata": {},
     "output_type": "display_data"
    }
   ],
   "source": [
    "fig, ax = plt.subplots(figsize=(5,4))\n",
    "sns.despine()\n",
    "\n",
    "sns.boxplot(x=\"mouse type\", y=\"firing rate\", hue=\"cell type\", data=df_firing_rate_all, \n",
    "            ax=ax,\n",
    "            #boxprops={\"facecolor\": (0, 0, 0, 0)},\n",
    "            palette={\"np\": \"red\", \"pc\": \"white\"},\n",
    "            flierprops={\"marker\": \"x\"})\n",
    "\n",
    "ind = [-.25, .25, .75 , 1.25]\n",
    "\n",
    "# KO:pc and WT:pc\n",
    "label_diff(1, 3, \"****\", \n",
    "           ind=ind, \n",
    "           Y=df_firing_rate_all.groupby([\"mouse type\", \"cell type\"])[[\"firing rate\"]].mean().values, \n",
    "           errors=df_firing_rate_all.groupby([\"mouse type\", \"cell type\"])[[\"firing rate\"]].max().values-.02, \n",
    "           ax=ax, barh=.005)\n",
    "# KO:pc and np\n",
    "label_diff(0, 1, \"****\", \n",
    "           ind=ind, \n",
    "           Y=df_firing_rate_all.groupby([\"mouse type\", \"cell type\"])[[\"firing rate\"]].mean().values, \n",
    "           errors=df_firing_rate_all.groupby([\"mouse type\", \"cell type\"])[[\"firing rate\"]].max().values-.02, \n",
    "           ax=ax, barh=.005)\n",
    "# WT:pc and np\n",
    "label_diff(2, 3, \"****\", \n",
    "           ind=ind, \n",
    "           Y=df_firing_rate_all.groupby([\"mouse type\", \"cell type\"])[[\"firing rate\"]].mean().values, \n",
    "           errors=df_firing_rate_all.groupby([\"mouse type\", \"cell type\"])[[\"firing rate\"]].max().values+.01, \n",
    "           ax=ax, barh=.005)\n",
    "\n",
    "ax.set_title(\"firing rate of each neuron\")\n",
    "ax.set_ylabel(\"firing rate (spikes/s)\")\n",
    "ax.legend( bbox_to_anchor=(1.1,1), title=\"cell type\")\n"
   ]
  },
  {
   "cell_type": "markdown",
   "metadata": {},
   "source": [
    "### KO mice with place cell"
   ]
  },
  {
   "cell_type": "code",
   "execution_count": 24,
   "metadata": {},
   "outputs": [
    {
     "data": {
      "text/plain": [
       "data name\n",
       "090817 OF CaMKII HKO M22-n1    0.030991\n",
       "091317 OF CaMKII HKO M19-n1    0.039554\n",
       "091317 OF CaMKII HKO M20-n1    0.038515\n",
       "092217 OF CaMKII HKO M30-n1    0.022618\n",
       "CK_KO_RN1_OF                   0.010382\n",
       "Name: firing rate, dtype: float64"
      ]
     },
     "execution_count": 24,
     "metadata": {},
     "output_type": "execute_result"
    }
   ],
   "source": [
    "df_firing_rate_all[\n",
    "    (df_firing_rate_all[\"mouse type\"]==\"KO\")&\n",
    "    (df_firing_rate_all[\"cell type\"]==\"pc\")].groupby(\"data name\")[\"firing rate\"].mean()"
   ]
  }
 ],
 "metadata": {
  "kernelspec": {
   "display_name": "Python 3",
   "language": "python",
   "name": "python3"
  },
  "language_info": {
   "codemirror_mode": {
    "name": "ipython",
    "version": 3
   },
   "file_extension": ".py",
   "mimetype": "text/x-python",
   "name": "python",
   "nbconvert_exporter": "python",
   "pygments_lexer": "ipython3",
   "version": "3.8.5"
  },
  "orig_nbformat": 4
 },
 "nbformat": 4,
 "nbformat_minor": 2
}
