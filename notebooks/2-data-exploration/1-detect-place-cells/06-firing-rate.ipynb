{
 "cells": [
  {
   "cell_type": "markdown",
   "metadata": {},
   "source": [
    "# Check firing rate of each neuron"
   ]
  },
  {
   "cell_type": "code",
   "execution_count": 1,
   "metadata": {},
   "outputs": [],
   "source": [
    "import seaborn as sns\n",
    "import matplotlib.pyplot as plt\n",
    "from pathlib import Path\n",
    "import numpy as np\n",
    "import pandas as pd\n",
    "from scipy import stats\n",
    "\n",
    "from dataloader import BaseDataset\n",
    "from utils.plot_utils import label_diff\n",
    "from param import *"
   ]
  },
  {
   "cell_type": "code",
   "execution_count": 2,
   "metadata": {},
   "outputs": [],
   "source": [
    "\n",
    "spikes_all = []\n",
    "mouse_type_list = []\n",
    "ratio_all = []\n",
    "for data_dir in ParamDir().data_list:\n",
    "\n",
    "    data_name = str(data_dir).split('/')[-1]\n",
    "    mouse_type = \"KO\" if \"KO\" in data_name else \"WT\"\n",
    "    dataset = BaseDataset(data_dir, False, ParamData().shuffle, ParamData().random_state)\n",
    "    position = dataset._discretize_coords()\n",
    "\n",
    "    # mean firing rate at each position\n",
    "    n_time, n_neuron = dataset.spikes.shape\n",
    "    spikes_all.extend(list((dataset.spikes.sum(axis=0))/(n_time/3)))\n",
    "    mouse_type_list.extend([f\"{mouse_type}\"]*len(dataset.spikes.sum(axis=0)))\n",
    "\n"
   ]
  },
  {
   "cell_type": "code",
   "execution_count": 3,
   "metadata": {},
   "outputs": [],
   "source": [
    "df_firing_rate_all = pd.DataFrame(spikes_all, columns=[\"firing rate\"])\n",
    "df_firing_rate_all[\"mouse type\"] = mouse_type_list\n",
    "means = df_firing_rate_all.groupby(\"mouse type\").mean().values\n",
    "errors = df_firing_rate_all.groupby(\"mouse type\").max().values -.02\n",
    "ind = [str(i+1) for i in range(len(means))]\n",
    "\n",
    "plot_data = [\n",
    "    df_firing_rate_all[df_firing_rate_all[\"mouse type\"]==\"KO\"][\"firing rate\"], \n",
    "    df_firing_rate_all[df_firing_rate_all[\"mouse type\"]==\"WT\"][\"firing rate\"]\n",
    "    ]"
   ]
  },
  {
   "cell_type": "code",
   "execution_count": 7,
   "metadata": {},
   "outputs": [
    {
     "data": {
      "text/plain": [
       "Ttest_indResult(statistic=4.956920667974125, pvalue=8.782940828382137e-07)"
      ]
     },
     "execution_count": 7,
     "metadata": {},
     "output_type": "execute_result"
    }
   ],
   "source": [
    "stats.ttest_ind(plot_data[0], plot_data[1])"
   ]
  },
  {
   "cell_type": "code",
   "execution_count": 5,
   "metadata": {},
   "outputs": [
    {
     "data": {
      "text/plain": [
       "Text(0.5, 1.0, 'firing rate of each neuron')"
      ]
     },
     "execution_count": 5,
     "metadata": {},
     "output_type": "execute_result"
    },
    {
     "data": {
      "image/png": "[encoded data removed]",
      "text/plain": [
       "<Figure size 400x400 with 1 Axes>"
      ]
     },
     "metadata": {},
     "output_type": "display_data"
    }
   ],
   "source": [
    "fig, ax = plt.subplots(figsize=(4,4))\n",
    "sns.despine()\n",
    "\n",
    "sns.boxplot([df_firing_rate_all[df_firing_rate_all[\"mouse type\"]==\"KO\"][\"firing rate\"], df_firing_rate_all[df_firing_rate_all[\"mouse type\"]==\"WT\"][\"firing rate\"]],\n",
    "            ax=ax,\n",
    "            boxprops={\"facecolor\": (0, 0, 0, 0)},\n",
    "            flierprops={\"marker\": \"x\"})\n",
    "label_diff(0, 1, \"****\", ind=[0,1], Y=means, errors=errors, ax=ax, barh=.005)\n",
    "\n",
    "ax.set_xticklabels([\"KO\", \"WT\"])\n",
    "ax.set_xlabel(\"mouse type\")\n",
    "ax.set_ylabel(\"firing rate (spikes/sec)\")\n",
    "ax.set_title(\"firing rate of each neuron\")\n",
    "\n"
   ]
  },
  {
   "cell_type": "code",
   "execution_count": null,
   "metadata": {},
   "outputs": [],
   "source": []
  }
 ],
 "metadata": {
  "kernelspec": {
   "display_name": "Python 3",
   "language": "python",
   "name": "python3"
  },
  "language_info": {
   "codemirror_mode": {
    "name": "ipython",
    "version": 3
   },
   "file_extension": ".py",
   "mimetype": "text/x-python",
   "name": "python",
   "nbconvert_exporter": "python",
   "pygments_lexer": "ipython3",
   "version": "3.8.5"
  },
  "orig_nbformat": 4
 },
 "nbformat": 4,
 "nbformat_minor": 2
}
