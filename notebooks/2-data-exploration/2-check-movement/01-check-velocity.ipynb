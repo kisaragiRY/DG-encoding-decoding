{
 "cells": [
  {
   "attachments": {},
   "cell_type": "markdown",
   "metadata": {},
   "source": [
    "# check velocity across the experiment"
   ]
  },
  {
   "cell_type": "code",
   "execution_count": 1,
   "metadata": {},
   "outputs": [],
   "source": [
    "import seaborn as sns\n",
    "import matplotlib.pyplot as plt\n",
    "import numpy as np\n",
    "import pandas as pd\n",
    "from scipy import stats\n",
    "\n",
    "from dataloader.dataset import BaseDataset\n",
    "from util import cal_velocity\n",
    "from param import *\n"
   ]
  },
  {
   "cell_type": "code",
   "execution_count": 2,
   "metadata": {},
   "outputs": [],
   "source": [
    "vel_all = []\n",
    "for data_dir in ParamDir().data_list:\n",
    "    dataset = BaseDataset(data_dir, ParamData().mobility, ParamData().shuffle, ParamData().random_state)\n",
    "    data_name = str(data_dir).split('/')[-1]\n",
    "    mouse_type = \"KO\" if \"KO\" in data_name else \"WT\"\n",
    "\n",
    "    vel = cal_velocity(dataset.coords_xy)\n",
    "    for v_i in vel:\n",
    "        vel_all.append([v_i, data_name, mouse_type])\n",
    "\n",
    "plot_data = pd.DataFrame(vel_all, columns=[\"velocity\", \"data name\", \"mouse type\"])"
   ]
  },
  {
   "attachments": {},
   "cell_type": "markdown",
   "metadata": {},
   "source": [
    "## T test"
   ]
  },
  {
   "cell_type": "code",
   "execution_count": 3,
   "metadata": {},
   "outputs": [
    {
     "data": {
      "text/plain": [
       "Ttest_indResult(statistic=50.89980560951953, pvalue=0.0)"
      ]
     },
     "execution_count": 3,
     "metadata": {},
     "output_type": "execute_result"
    }
   ],
   "source": [
    "stats.ttest_ind(plot_data[plot_data[\"mouse type\"]==\"KO\"][\"velocity\"].values, \n",
    "                plot_data[plot_data[\"mouse type\"]==\"WT\"][\"velocity\"].values)"
   ]
  },
  {
   "attachments": {},
   "cell_type": "markdown",
   "metadata": {},
   "source": [
    "## Plot"
   ]
  },
  {
   "cell_type": "code",
   "execution_count": 4,
   "metadata": {},
   "outputs": [],
   "source": [
    "def label_diff(i,j,text,ind,Y, errors, ax, barh):\n",
    "    y = 1.1*max(Y[i]+errors[i], Y[j]+errors[j])\n",
    "\n",
    "    lx, rx = ind[i], ind[j]\n",
    "    barx = [lx, lx, rx, rx]\n",
    "    bary = [y, y+barh, y+barh, y]\n",
    "\n",
    "    kwargs = dict(ha='center', va='bottom')\n",
    "    mid = ((lx+rx)/2, y+barh)\n",
    "\n",
    "    ax.plot(barx, bary, c='black')\n",
    "    ax.text(*mid, text, **kwargs)\n"
   ]
  },
  {
   "cell_type": "code",
   "execution_count": 5,
   "metadata": {},
   "outputs": [
    {
     "data": {
      "text/plain": [
       "Text(0.5, 0.98, 'Velocity (KO>WT)')"
      ]
     },
     "execution_count": 5,
     "metadata": {},
     "output_type": "execute_result"
    },
    {
     "data": {
      "image/png": "[encoded data removed]",
      "text/plain": [
       "<Figure size 400x400 with 1 Axes>"
      ]
     },
     "metadata": {},
     "output_type": "display_data"
    }
   ],
   "source": [
    "ind = range(len(plot_data))\n",
    "means = plot_data.groupby(\"mouse type\")[\"velocity\"].mean()\n",
    "errors = plot_data.groupby(\"mouse type\")[\"velocity\"].max()\n",
    "\n",
    "fig, ax = plt.subplots(figsize=(4,4),sharey=True, tight_layout=True)\n",
    "sns.despine()\n",
    "\n",
    "sns.boxplot(\n",
    "    x=\"mouse type\", \n",
    "    y=\"velocity\", \n",
    "    boxprops={\"facecolor\": (0, 0, 0, 0)}, \n",
    "    data=plot_data, \n",
    "    flierprops={\"marker\": \"x\"}, \n",
    "    ax=ax\n",
    "    )\n",
    "\n",
    "ax.set_xlabel(\"mouse type\")\n",
    "ax.set_ylabel(\"velocity (cm/s)\")\n",
    "label_diff(0, 1, \"****\", ind=ind, Y=means, errors=errors, ax=ax, barh=1)\n",
    "\n",
    "plt.suptitle(\"Velocity (KO>WT)\")"
   ]
  }
 ],
 "metadata": {
  "kernelspec": {
   "display_name": "Python 3",
   "language": "python",
   "name": "python3"
  },
  "language_info": {
   "codemirror_mode": {
    "name": "ipython",
    "version": 3
   },
   "file_extension": ".py",
   "mimetype": "text/x-python",
   "name": "python",
   "nbconvert_exporter": "python",
   "pygments_lexer": "ipython3",
   "version": "3.8.5"
  },
  "orig_nbformat": 4,
  "vscode": {
   "interpreter": {
    "hash": "aee8b7b246df8f9039afb4144a1f6fd8d2ca17a180786b69acc140d282b71a49"
   }
  }
 },
 "nbformat": 4,
 "nbformat_minor": 2
}
