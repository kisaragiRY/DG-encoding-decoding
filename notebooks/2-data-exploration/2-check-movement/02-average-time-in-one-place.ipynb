{
 "cells": [
  {
   "attachments": {},
   "cell_type": "markdown",
   "metadata": {},
   "source": [
    "# Check average time of mice staying in one place"
   ]
  },
  {
   "cell_type": "code",
   "execution_count": 1,
   "metadata": {},
   "outputs": [],
   "source": [
    "from typing import Tuple\n",
    "\n",
    "import seaborn as sns\n",
    "import matplotlib.pyplot as plt\n",
    "from pathlib import Path\n",
    "import numpy as np\n",
    "import pandas as pd\n",
    "from scipy import stats\n",
    "\n",
    "from dataloader import BaseDataset\n",
    "from utils.util import segment\n",
    "from param import *\n"
   ]
  },
  {
   "cell_type": "code",
   "execution_count": 2,
   "metadata": {},
   "outputs": [],
   "source": [
    "\n",
    "segment_len_all = []\n",
    "for i, data_dir in enumerate(ParamDir().data_list):\n",
    "    data_name = str(data_dir).split('/')[-1]\n",
    "    mouse_type = \"KO\" if \"KO\" in data_name else \"WT\"\n",
    "    dataset = BaseDataset(data_dir, ParamData().mobility, ParamData().shuffle, ParamData().random_state)\n",
    "    y = dataset._discretize_coords()\n",
    "\n",
    "    segment_ind = segment(y)\n",
    "    segment_len = round((segment_ind[0]+1)/3, 2)\n",
    "    segment_len_all.append([segment_len, data_name, mouse_type])\n",
    "    for i in range(1, len(segment_ind)):\n",
    "        segment_len = round((segment_ind[i]-segment_ind[i-1])/3, 2)\n",
    "        segment_len_all.append([segment_len, data_name, mouse_type])\n",
    "\n",
    "plot_data = pd.DataFrame(segment_len_all, columns=[\"time in one position (s)\", \"data name\", \"mouse type\"])\n"
   ]
  },
  {
   "attachments": {},
   "cell_type": "markdown",
   "metadata": {},
   "source": [
    "## t-test"
   ]
  },
  {
   "cell_type": "code",
   "execution_count": 3,
   "metadata": {},
   "outputs": [
    {
     "data": {
      "text/plain": [
       "Ttest_indResult(statistic=-7.178390578351806, pvalue=1.0282736287656534e-12)"
      ]
     },
     "execution_count": 3,
     "metadata": {},
     "output_type": "execute_result"
    }
   ],
   "source": [
    "stats.ttest_ind(plot_data[plot_data[\"mouse type\"]==\"KO\"][\"time in one position (s)\"], \n",
    "                plot_data[plot_data[\"mouse type\"]==\"WT\"][\"time in one position (s)\"])"
   ]
  },
  {
   "attachments": {},
   "cell_type": "markdown",
   "metadata": {},
   "source": [
    "## plot"
   ]
  },
  {
   "cell_type": "code",
   "execution_count": 4,
   "metadata": {},
   "outputs": [],
   "source": [
    "def label_diff(i,j,text,ind,Y, errors, ax, barh):\n",
    "    y = 1.1*max(Y[i]+errors[i], Y[j]+errors[j])\n",
    "\n",
    "    lx, rx = ind[i], ind[j]\n",
    "    barx = [lx, lx, rx, rx]\n",
    "    bary = [y, y+barh, y+barh, y]\n",
    "\n",
    "    kwargs = dict(ha='center', va='bottom')\n",
    "    mid = ((lx+rx)/2, y+barh)\n",
    "\n",
    "    ax.plot(barx, bary, c='black')\n",
    "    ax.text(*mid, text, **kwargs)\n"
   ]
  },
  {
   "cell_type": "code",
   "execution_count": 5,
   "metadata": {},
   "outputs": [
    {
     "data": {
      "text/plain": [
       "Text(0.5, 0.98, 'time at one position (KO<WT)')"
      ]
     },
     "execution_count": 5,
     "metadata": {},
     "output_type": "execute_result"
    },
    {
     "data": {
      "image/png": "[encoded data removed]",
      "text/plain": [
       "<Figure size 400x400 with 1 Axes>"
      ]
     },
     "metadata": {},
     "output_type": "display_data"
    }
   ],
   "source": [
    "ind = range(len(plot_data))\n",
    "means = plot_data.groupby(\"mouse type\")[\"time in one position (s)\"].mean()\n",
    "errors = plot_data.groupby(\"mouse type\")[\"time in one position (s)\"].max()\n",
    "\n",
    "fig, ax = plt.subplots(figsize=(4,4),sharey=True, tight_layout=True)\n",
    "sns.despine()\n",
    "\n",
    "sns.boxplot(\n",
    "    x=\"mouse type\", \n",
    "    y=\"time in one position (s)\", \n",
    "    boxprops={\"facecolor\": (0, 0, 0, 0)}, \n",
    "    data=plot_data, \n",
    "    flierprops={\"marker\": \"x\"}, \n",
    "    ax=ax\n",
    "    )\n",
    "\n",
    "ax.set_xlabel(\"mouse type\")\n",
    "ax.set_ylabel(\"time (s)\")\n",
    "label_diff(0, 1, \"****\", ind=ind, Y=means, errors=errors, ax=ax, barh=1)\n",
    "\n",
    "# ax.set_title(\"time of staying at one position\")\n",
    "plt.suptitle(\"time at one position (KO<WT)\")"
   ]
  }
 ],
 "metadata": {
  "kernelspec": {
   "display_name": "Python 3",
   "language": "python",
   "name": "python3"
  },
  "language_info": {
   "codemirror_mode": {
    "name": "ipython",
    "version": 3
   },
   "file_extension": ".py",
   "mimetype": "text/x-python",
   "name": "python",
   "nbconvert_exporter": "python",
   "pygments_lexer": "ipython3",
   "version": "3.8.5"
  },
  "orig_nbformat": 4
 },
 "nbformat": 4,
 "nbformat_minor": 2
}
